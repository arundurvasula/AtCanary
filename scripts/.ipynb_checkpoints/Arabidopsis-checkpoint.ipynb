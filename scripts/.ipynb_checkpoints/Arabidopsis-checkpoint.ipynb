{
 "metadata": {
  "name": "",
  "signature": "sha256:7a23eacc0f19f42c8ee5183d9ac22fa13c1a2fd2c822988f0e5f027e0888366a"
 },
 "nbformat": 3,
 "nbformat_minor": 0,
 "worksheets": [
  {
   "cells": [
    {
     "cell_type": "code",
     "collapsed": false,
     "input": [
      "import dadi\n",
      "import numpy\n",
      "import pylab\n",
      "import demographic_models\n",
      "\n",
      "from numpy import array"
     ],
     "language": "python",
     "metadata": {},
     "outputs": [],
     "prompt_number": 1
    },
    {
     "cell_type": "markdown",
     "metadata": {},
     "source": [
      "Run some simulations without data"
     ]
    },
    {
     "cell_type": "code",
     "collapsed": false,
     "input": [
      "params=array([1,1.5,1,1.5,0.8,2,3,4])\n",
      "ns=array([20, 20, 20])\n",
      "pts_l = 20\n",
      "fs = demographic_models.simple_canary(params, ns, pts_l)\n",
      "dadi.Plotting.plot_3d_spectrum(fs)"
     ],
     "language": "python",
     "metadata": {},
     "outputs": [
      {
       "ename": "ValueError",
       "evalue": "Dimensionality of phi and lengths of ns and xxs do not all agree.",
       "output_type": "pyerr",
       "traceback": [
        "\u001b[0;31m---------------------------------------------------------------------------\u001b[0m\n\u001b[0;31mValueError\u001b[0m                                Traceback (most recent call last)",
        "\u001b[0;32m<ipython-input-4-08e358ca2f41>\u001b[0m in \u001b[0;36m<module>\u001b[0;34m()\u001b[0m\n\u001b[1;32m      2\u001b[0m \u001b[0mns\u001b[0m\u001b[0;34m=\u001b[0m\u001b[0marray\u001b[0m\u001b[0;34m(\u001b[0m\u001b[0;34m[\u001b[0m\u001b[0;36m20\u001b[0m\u001b[0;34m,\u001b[0m \u001b[0;36m20\u001b[0m\u001b[0;34m,\u001b[0m \u001b[0;36m20\u001b[0m\u001b[0;34m]\u001b[0m\u001b[0;34m)\u001b[0m\u001b[0;34m\u001b[0m\u001b[0m\n\u001b[1;32m      3\u001b[0m \u001b[0mpts_l\u001b[0m \u001b[0;34m=\u001b[0m \u001b[0;36m20\u001b[0m\u001b[0;34m\u001b[0m\u001b[0m\n\u001b[0;32m----> 4\u001b[0;31m \u001b[0mfs\u001b[0m \u001b[0;34m=\u001b[0m \u001b[0mdemographic_models\u001b[0m\u001b[0;34m.\u001b[0m\u001b[0msimple_canary\u001b[0m\u001b[0;34m(\u001b[0m\u001b[0mparams\u001b[0m\u001b[0;34m,\u001b[0m \u001b[0mns\u001b[0m\u001b[0;34m,\u001b[0m \u001b[0mpts_l\u001b[0m\u001b[0;34m)\u001b[0m\u001b[0;34m\u001b[0m\u001b[0m\n\u001b[0m\u001b[1;32m      5\u001b[0m \u001b[0mdadi\u001b[0m\u001b[0;34m.\u001b[0m\u001b[0mPlotting\u001b[0m\u001b[0;34m.\u001b[0m\u001b[0mplot_3d_spectrum\u001b[0m\u001b[0;34m(\u001b[0m\u001b[0mfs\u001b[0m\u001b[0;34m)\u001b[0m\u001b[0;34m\u001b[0m\u001b[0m\n",
        "\u001b[0;32m/Users/arundurvasula/Documents/Science/AtCanary/scripts/demographic_models.py\u001b[0m in \u001b[0;36msimple_canary\u001b[0;34m((nuIb0, nuIb, nuMo0, nuMo, nuCa0, TIbMo, TMoCa, TF), ns, pts)\u001b[0m\n\u001b[1;32m     25\u001b[0m     \u001b[0mphi\u001b[0m \u001b[0;34m=\u001b[0m \u001b[0mIntegration\u001b[0m\u001b[0;34m.\u001b[0m\u001b[0mthree_pops\u001b[0m\u001b[0;34m(\u001b[0m\u001b[0mphi\u001b[0m\u001b[0;34m,\u001b[0m \u001b[0mxx\u001b[0m\u001b[0;34m,\u001b[0m \u001b[0mTF\u001b[0m\u001b[0;34m,\u001b[0m \u001b[0mnu1\u001b[0m\u001b[0;34m=\u001b[0m\u001b[0mnuIb\u001b[0m\u001b[0;34m,\u001b[0m \u001b[0mnu2\u001b[0m\u001b[0;34m=\u001b[0m\u001b[0mnuMo\u001b[0m\u001b[0;34m,\u001b[0m \u001b[0mnu3\u001b[0m\u001b[0;34m=\u001b[0m\u001b[0mnuCa0\u001b[0m\u001b[0;34m)\u001b[0m\u001b[0;34m\u001b[0m\u001b[0m\n\u001b[1;32m     26\u001b[0m \u001b[0;34m\u001b[0m\u001b[0m\n\u001b[0;32m---> 27\u001b[0;31m     \u001b[0mfs\u001b[0m \u001b[0;34m=\u001b[0m \u001b[0mSpectrum\u001b[0m\u001b[0;34m.\u001b[0m\u001b[0mfrom_phi\u001b[0m\u001b[0;34m(\u001b[0m\u001b[0mphi\u001b[0m\u001b[0;34m,\u001b[0m \u001b[0mns\u001b[0m\u001b[0;34m,\u001b[0m \u001b[0;34m(\u001b[0m\u001b[0mxx\u001b[0m\u001b[0;34m,\u001b[0m\u001b[0;34m)\u001b[0m\u001b[0;34m)\u001b[0m\u001b[0;34m\u001b[0m\u001b[0m\n\u001b[0m\u001b[1;32m     28\u001b[0m \u001b[0;34m\u001b[0m\u001b[0m\n\u001b[1;32m     29\u001b[0m     \u001b[0;32mreturn\u001b[0m \u001b[0mfs\u001b[0m\u001b[0;34m\u001b[0m\u001b[0m\n",
        "\u001b[0;32m/Users/arundurvasula/anaconda/lib/python2.7/site-packages/dadi-1.6.3-py2.7-macosx-10.5-x86_64.egg/dadi/Spectrum_mod.pyc\u001b[0m in \u001b[0;36mfrom_phi\u001b[0;34m(phi, ns, xxs, mask_corners, pop_ids, admix_props, het_ascertained, force_direct)\u001b[0m\n\u001b[1;32m   1319\u001b[0m                              'populations.' .format(str(admix_props)))\n\u001b[1;32m   1320\u001b[0m         \u001b[0;32mif\u001b[0m \u001b[0;32mnot\u001b[0m \u001b[0mphi\u001b[0m\u001b[0;34m.\u001b[0m\u001b[0mndim\u001b[0m \u001b[0;34m==\u001b[0m \u001b[0mlen\u001b[0m\u001b[0;34m(\u001b[0m\u001b[0mns\u001b[0m\u001b[0;34m)\u001b[0m \u001b[0;34m==\u001b[0m \u001b[0mlen\u001b[0m\u001b[0;34m(\u001b[0m\u001b[0mxxs\u001b[0m\u001b[0;34m)\u001b[0m\u001b[0;34m:\u001b[0m\u001b[0;34m\u001b[0m\u001b[0m\n\u001b[0;32m-> 1321\u001b[0;31m             raise ValueError('Dimensionality of phi and lengths of ns and xxs '\n\u001b[0m\u001b[1;32m   1322\u001b[0m                              'do not all agree.')\n\u001b[1;32m   1323\u001b[0m         \u001b[0;32mif\u001b[0m \u001b[0mhet_ascertained\u001b[0m \u001b[0;32mand\u001b[0m \u001b[0;32mnot\u001b[0m \u001b[0mhet_ascertained\u001b[0m \u001b[0;32min\u001b[0m \u001b[0;34m[\u001b[0m\u001b[0;34m'xx'\u001b[0m\u001b[0;34m,\u001b[0m\u001b[0;34m'yy'\u001b[0m\u001b[0;34m,\u001b[0m\u001b[0;34m'zz'\u001b[0m\u001b[0;34m]\u001b[0m\u001b[0;34m:\u001b[0m\u001b[0;34m\u001b[0m\u001b[0m\n",
        "\u001b[0;31mValueError\u001b[0m: Dimensionality of phi and lengths of ns and xxs do not all agree."
       ]
      }
     ],
     "prompt_number": 4
    },
    {
     "cell_type": "markdown",
     "metadata": {},
     "source": [
      "Run the simple canary island model. This model is just a 3 population split with no migration.\n",
      "\n",
      "    |\n",
      "     ----\n",
      "    |    |\n",
      "    |     ----\n",
      "    |    |    |\n",
      "    S    M    C"
     ]
    },
    {
     "cell_type": "code",
     "collapsed": false,
     "input": [
      "data = dadi.Spectrum.from_file('data/FS.fs')\n",
      "ns = data.sample_sizes\n",
      "pts_l = [40, 50, 60]\n",
      "params = array([]) #change these?\n",
      "upper_bound = [100, 100, 100, 100, 3, 3, 3] #change these?\n",
      "lower_bound = [1e-2, 1e-2, 1e-2, 0, 0, 0, 0] #change these?\n",
      "\n",
      "func = demographic_models.simple_canary\n",
      "func_ex = dadi.Numerics.make_extrap_log_func(func)"
     ],
     "language": "python",
     "metadata": {},
     "outputs": []
    },
    {
     "cell_type": "code",
     "collapsed": false,
     "input": [
      "# Calculate the model AFS.\n",
      "model = func_ex(params, ns, pts_l)\n",
      "# Likelihood of the data given the model AFS.\n",
      "ll_model = dadi.Inference.ll_multinom(model, data)\n",
      "print 'Model log-likelihood:', ll_model\n",
      "# The optimal value of theta given the model.\n",
      "theta = dadi.Inference.optimal_sfs_scaling(model, data)"
     ],
     "language": "python",
     "metadata": {},
     "outputs": []
    },
    {
     "cell_type": "code",
     "collapsed": false,
     "input": [
      "p0 = dadi.Misc.perturb_params(params, fold=1, upper_bound=upper_bound)\n",
      "popt = dadi.Inference.optimize_log(p0, data, func_ex, pts_l,\n",
      "                                   lower_bound=lower_bound,\n",
      "                                   upper_bound=upper_bound,\n",
      "                                   verbose=len(params),\n",
      "                                   maxiter=3)\n",
      "print 'Optimized parameters', repr(popt)\n",
      "model = func_ex(popt, ns, pts_l)\n",
      "ll_opt = dadi.Inference.ll_multinom(model, data)\n",
      "print 'Optimized log-likelihood:', ll_opt"
     ],
     "language": "python",
     "metadata": {},
     "outputs": []
    },
    {
     "cell_type": "code",
     "collapsed": false,
     "input": [
      "pylab.figure()\n",
      "dadi.Plotting.plot_2d_comp_multinom(model, data, vmin=1, resid_range=3,\n",
      "                                    pop_ids =('YRI','CEU'))\n",
      "pylab.show()"
     ],
     "language": "python",
     "metadata": {},
     "outputs": []
    }
   ],
   "metadata": {}
  }
 ]
}