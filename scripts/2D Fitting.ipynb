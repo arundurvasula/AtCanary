{
 "metadata": {
  "name": "",
  "signature": "sha256:48873f9a56012e873475c15c5609956ed9ad14f1baa9eda26e0b9fdcd77e59b9"
 },
 "nbformat": 3,
 "nbformat_minor": 0,
 "worksheets": [
  {
   "cells": [
    {
     "cell_type": "code",
     "collapsed": false,
     "input": [
      "%matplotlib inline\n",
      "import dadi\n",
      "import numpy\n",
      "import pylab\n",
      "\n",
      "from numpy import array"
     ],
     "language": "python",
     "metadata": {},
     "outputs": [],
     "prompt_number": 1
    },
    {
     "cell_type": "markdown",
     "metadata": {},
     "source": [
      "# Intergenic"
     ]
    },
    {
     "cell_type": "code",
     "collapsed": false,
     "input": [
      "data = dadi.Spectrum.from_file('../data/matrix_intergenic.txt.transp.geno_dadiSpectrum.txt')\n",
      "data = data.fold()\n",
      "data = data.marginalize([2])"
     ],
     "language": "python",
     "metadata": {},
     "outputs": [],
     "prompt_number": 2
    },
    {
     "cell_type": "code",
     "collapsed": false,
     "input": [
      "def exp_mig_2d((nuIbB, nuIbF, nuMoB, nuMoF, mIbMo, mMoIb, T1), ns, pts):\n",
      "\n",
      "    xx = dadi.Numerics.default_grid(pts)\n",
      "\n",
      "    nuIb_func = lambda t: nuIbB*(nuIbF/nuIbB)**(t/T1)\n",
      "    nuMo_func = lambda t: nuMoB*(nuMoF/nuMoB)**(t/T1)\n",
      "    \n",
      "    phi = dadi.PhiManip.phi_1D(xx)\n",
      "    phi = dadi.PhiManip.phi_1D_to_2D(xx, phi)\n",
      "    phi = dadi.Integration.two_pops(phi, xx, T1, nu1=nuIb_func, nu2=nuMo_func, m21=mIbMo, m12=mMoIb)\n",
      "    \n",
      "    fs = dadi.Spectrum.from_phi(phi,  ns, (xx,xx))\n",
      "    \n",
      "    return fs"
     ],
     "language": "python",
     "metadata": {},
     "outputs": [],
     "prompt_number": 5
    },
    {
     "cell_type": "code",
     "collapsed": false,
     "input": [
      "ns = data.sample_sizes\n",
      "pts_l = [40, 50, 60]\n",
      "# nuIbB, nuIbF, nuMoB, nuMoF, mIbMo, mMoIb, T1\n",
      "upper_bound = [10, 10, 10, 10, 10, 10, 10]\n",
      "#params = array([ 1, 1, 1, 1, 0.4, 0.4, 1])\n",
      "#params = array([1.58158059, 4.13281629, 2.20601142, 3.12405662, 0.31451535, 0.01358399, 0.76416679])\n",
      "#params = array([ 0.62748067, 7.79873322, 3.25464204, 3.08059549, 0.18619164, 0.19584753, 0.63000724])\n",
      "#params = array([ 0.69472001, 5.07779513, 2.67047645, 2.98693703, 0.15201385, 0.35964084, 0.87752393])\n",
      "params = array([ 0.7312435 , 5.02414625, 2.66818443, 2.95921731, 0.15271247, 0.35667577, 0.85838483])\n",
      "lower_bound = [1e-1, 1e-1, 1e-2, 1e-2, 0, 0, 1e-2]\n",
      "\n",
      "func = exp_mig_2d\n",
      "func_ex = dadi.Numerics.make_extrap_log_func(func)\n",
      "\n",
      "model = func_ex(params, ns, pts_l)\n",
      "ll_model = dadi.Inference.ll_multinom(model, data)\n",
      "print 'Model log-likelihood:', ll_model\n",
      "theta = dadi.Inference.optimal_sfs_scaling(model, data)\n",
      "print theta\n",
      "\n",
      "p0 = dadi.Misc.perturb_params(params, fold=1, upper_bound=upper_bound)\n",
      "popt = dadi.Inference.optimize_log(p0, data, func_ex, pts_l,\n",
      "                                   lower_bound=lower_bound,\n",
      "                                   upper_bound=upper_bound,\n",
      "                                   verbose=len(params),\n",
      "                                   maxiter=15)\n",
      "print 'Optimized parameters', repr(popt)\n",
      "model = func_ex(popt, ns, pts_l)\n",
      "ll_opt = dadi.Inference.ll_multinom(model, data)\n",
      "print 'Optimized log-likelihood:', ll_opt\n",
      "\n",
      "pylab.figure(figsize=(9, 9), dpi=300)\n",
      "dadi.Plotting.plot_2d_comp_multinom(model, data, vmin=1, resid_range=4.5,\n",
      "                                    pop_ids =('Ib','Mo'))\n",
      "pylab.show()"
     ],
     "language": "python",
     "metadata": {},
     "outputs": [
      {
       "output_type": "stream",
       "stream": "stdout",
       "text": [
        "Model log-likelihood: -2391.67536795\n",
        "19751.3681362\n",
        "2254    , -4198.32    , array([ 0.50243    ,  3.42425    ,  2.32283    ,  4.25772    ,  0.110642   ,  0.662806   ,  1.12387    ])\n"
       ]
      },
      {
       "output_type": "stream",
       "stream": "stdout",
       "text": [
        "2282    , -3284.89    , array([ 0.524909   ,  4.19209    ,  2.11512    ,  2.94237    ,  0.104322   ,  0.50933    ,  1.0667     ])\n",
        "2289    , -2804.22    , array([ 0.614299   ,  6.35197    ,  2.26957    ,  2.83484    ,  0.10784    ,  0.415356   ,  0.685518   ])\n"
       ]
      },
      {
       "output_type": "stream",
       "stream": "stdout",
       "text": [
        "2296    , -2802.42    , array([ 0.614299   ,  6.35197    ,  2.26957    ,  2.83484    ,  0.10784    ,  0.415356   ,  0.686204   ])\n",
        "2303    , -4204.08    , array([ 0.525543   ,  6.54754    ,  2.89173    ,  3.70666    ,  0.114944   ,  0.188162   ,  0.57931    ])\n"
       ]
      },
      {
       "output_type": "stream",
       "stream": "stdout",
       "text": [
        "2310    , -2724.08    , array([ 0.598694   ,  6.38381    ,  2.36443    ,  2.96299    ,  0.108963   ,  0.364517   ,  0.666752   ])\n",
        "2317    , -2819.76    , array([ 0.631599   ,  7.92054    ,  2.65116    ,  3.26646    ,  0.127401   ,  0.317099   ,  0.831518   ])\n"
       ]
      },
      {
       "output_type": "stream",
       "stream": "stdout",
       "text": [
        "2324    , -2698.71    , array([ 0.608424   ,  6.8209     ,  2.44731    ,  3.05304    ,  0.114321   ,  0.349249   ,  0.713529   ])\n",
        "2331    , -2699.3     , array([ 0.608424   ,  6.8209     ,  2.44731    ,  3.05304    ,  0.114321   ,  0.349598   ,  0.713529   ])\n"
       ]
      },
      {
       "output_type": "stream",
       "stream": "stdout",
       "text": [
        "2338    , -2676.22    , array([ 0.641291   ,  6.62576    ,  2.72267    ,  2.87014    ,  0.145142   ,  0.33611    ,  0.730197   ])\n"
       ]
      },
      {
       "output_type": "stream",
       "stream": "stdout",
       "text": [
        "2345    , -2688.52    , array([ 0.66126    ,  6.4308     ,  1.91481    ,  3.17836    ,  0.177147   ,  0.318072   ,  0.721918   ])\n",
        "2352    , -2665.44    , array([ 0.64943    ,  6.54218    ,  2.3557     ,  2.99136    ,  0.157539   ,  0.32857    ,  0.726781   ])\n"
       ]
      },
      {
       "output_type": "stream",
       "stream": "stdout",
       "text": [
        "2359    , -2663.62    , array([ 0.64943    ,  6.54218    ,  2.3557     ,  2.99136    ,  0.157539   ,  0.32857    ,  0.727508   ])\n",
        "2366    , -2645.77    , array([ 0.668079   ,  6.41128    ,  2.36683    ,  2.99417    ,  0.156923   ,  0.327894   ,  0.732294   ])\n"
       ]
      },
      {
       "output_type": "stream",
       "stream": "stdout",
       "text": [
        "2373    , -2576.51    , array([ 0.748185   ,  5.91337    ,  2.41429    ,  3.00547    ,  0.153713   ,  0.325201   ,  0.754768   ])\n",
        "2380    , -2470.2     , array([ 0.603913   ,  5.79362    ,  2.68279    ,  2.81996    ,  0.161386   ,  0.356613   ,  0.772193   ])\n"
       ]
      },
      {
       "output_type": "stream",
       "stream": "stdout",
       "text": [
        "2387    , -2420.93    , array([ 0.850976   ,  4.46394    ,  2.89332    ,  2.88488    ,  0.155295   ,  0.351626   ,  0.881837   ])\n",
        "2394    , -2420.81    , array([ 0.850976   ,  4.46394    ,  2.89332    ,  2.88488    ,  0.155295   ,  0.351978   ,  0.881837   ])\n"
       ]
      },
      {
       "output_type": "stream",
       "stream": "stdout",
       "text": [
        "2401    , -2393.41    , array([ 0.727163   ,  5.07404    ,  2.68287    ,  2.94584    ,  0.148545   ,  0.355758   ,  0.843728   ])\n",
        "2408    , -2391.62    , array([ 0.730603   ,  5.03116    ,  2.75099    ,  2.92468    ,  0.151151   ,  0.35744    ,  0.855302   ])\n"
       ]
      },
      {
       "output_type": "stream",
       "stream": "stdout",
       "text": [
        "2415    , -2392.39    , array([ 0.732486   ,  4.96356    ,  2.84872    ,  2.90334    ,  0.15379    ,  0.362516   ,  0.874297   ])\n"
       ]
      },
      {
       "output_type": "stream",
       "stream": "stdout",
       "text": [
        "2422    , -2392.49    , array([ 0.732486   ,  4.96356    ,  2.84872    ,  2.90334    ,  0.15379    ,  0.362516   ,  0.875172   ])\n",
        "2429    , -2391.35    , array([ 0.731322   ,  5.00213    ,  2.78793    ,  2.91651    ,  0.152306   ,  0.359371   ,  0.862511   ])\n"
       ]
      },
      {
       "output_type": "stream",
       "stream": "stdout",
       "text": [
        "2436    , -2391.23    , array([ 0.730686   ,  5.00532    ,  2.75226    ,  2.93596    ,  0.151758   ,  0.358384   ,  0.861566   ])\n",
        "2443    , -2391.2     , array([ 0.730429   ,  5.00858    ,  2.75144    ,  2.93684    ,  0.151801   ,  0.358805   ,  0.86264    ])\n"
       ]
      },
      {
       "output_type": "stream",
       "stream": "stdout",
       "text": [
        "2450    , -2391.11    , array([ 0.728923   ,  5.01296    ,  2.75402    ,  2.9361     ,  0.151666   ,  0.359279   ,  0.862973   ])\n",
        "2457    , -2391.18    , array([ 0.728923   ,  5.01296    ,  2.75402    ,  2.9361     ,  0.151666   ,  0.359639   ,  0.862973   ])\n"
       ]
      },
      {
       "output_type": "stream",
       "stream": "stdout",
       "text": [
        "2464    , -2391.19    , array([ 0.729464   ,  5.0099     ,  2.75222    ,  2.93955    ,  0.15176    ,  0.358948   ,  0.862741   ])\n",
        "2471    , -2391.15    , array([ 0.728993   ,  5.01759    ,  2.75379    ,  2.93616    ,  0.151678   ,  0.359237   ,  0.862943   ])\n"
       ]
      },
      {
       "output_type": "stream",
       "stream": "stdout",
       "text": [
        "2478    , -2391.11    , array([ 0.728926   ,  5.01295    ,  2.75401    ,  2.9361     ,  0.151666   ,  0.359278   ,  0.862972   ])\n"
       ]
      },
      {
       "output_type": "stream",
       "stream": "stdout",
       "text": [
        "2485    , -2391.19    , array([ 0.728926   ,  5.01295    ,  2.75401    ,  2.9361     ,  0.151666   ,  0.359278   ,  0.863835   ])\n",
        "2492    , -2391.11    , array([ 0.728928   ,  5.01294    ,  2.754      ,  2.9361     ,  0.151818   ,  0.359276   ,  0.862971   ])\n"
       ]
      },
      {
       "output_type": "stream",
       "stream": "stdout",
       "text": [
        "2499    , -2391.11    , array([ 0.72896    ,  5.01275    ,  2.75665    ,  2.93613    ,  0.151672   ,  0.359256   ,  0.862957   ])\n",
        "2506    , -2391.1     , array([ 0.729663   ,  5.0129     ,  2.75398    ,  2.93611    ,  0.151668   ,  0.359272   ,  0.862968   ])\n"
       ]
      },
      {
       "output_type": "stream",
       "stream": "stdout",
       "text": [
        "2513    , -2391.1     , array([ 0.728938   ,  5.01288    ,  2.75397    ,  2.93611    ,  0.151668   ,  0.35927    ,  0.862967   ])\n",
        "2520    , -2391.18    , array([ 0.728938   ,  5.01288    ,  2.75397    ,  2.93611    ,  0.151668   ,  0.35963    ,  0.862967   ])\n"
       ]
      },
      {
       "output_type": "stream",
       "stream": "stdout",
       "text": [
        "2527    , -2391.1     , array([ 0.728949   ,  5.01282    ,  2.75393    ,  2.93906    ,  0.15167    ,  0.359263   ,  0.862962   ])\n",
        "2534    , -2391.1     , array([ 0.72895    ,  5.01783    ,  2.75393    ,  2.93612    ,  0.15167    ,  0.359263   ,  0.862961   ])\n"
       ]
      },
      {
       "output_type": "stream",
       "stream": "stdout",
       "text": [
        "2541    , -2391.1     , array([ 0.728949   ,  5.01282    ,  2.75393    ,  2.93612    ,  0.15167    ,  0.359263   ,  0.862962   ])\n"
       ]
      },
      {
       "output_type": "stream",
       "stream": "stdout",
       "text": [
        "2548    , -2391.19    , array([ 0.728949   ,  5.01282    ,  2.75393    ,  2.93612    ,  0.15167    ,  0.359263   ,  0.863825   ])\n",
        "2555    , -2391.1     , array([ 0.728949   ,  5.01282    ,  2.75393    ,  2.93612    ,  0.151822   ,  0.359263   ,  0.862962   ])\n"
       ]
      },
      {
       "output_type": "stream",
       "stream": "stdout",
       "text": [
        "2562    , -2391.1     , array([ 0.728949   ,  5.01282    ,  2.75669    ,  2.93612    ,  0.15167    ,  0.359263   ,  0.862962   ])\n",
        "2569    , -2391.1     , array([ 0.729678   ,  5.01282    ,  2.75393    ,  2.93612    ,  0.15167    ,  0.359263   ,  0.862962   ])\n"
       ]
      },
      {
       "output_type": "stream",
       "stream": "stdout",
       "text": [
        "2576    , -2391.1     , array([ 0.728949   ,  5.01282    ,  2.75393    ,  2.93612    ,  0.15167    ,  0.359263   ,  0.862962   ])\n",
        "2583    , -2391.18    , array([ 0.728949   ,  5.01282    ,  2.75393    ,  2.93612    ,  0.15167    ,  0.359623   ,  0.862962   ])\n"
       ]
      },
      {
       "output_type": "stream",
       "stream": "stdout",
       "text": [
        "2590    , -2391.1     , array([ 0.728949   ,  5.01282    ,  2.75393    ,  2.93906    ,  0.15167    ,  0.359263   ,  0.862962   ])\n",
        "2597    , -2391.1     , array([ 0.728949   ,  5.01783    ,  2.75393    ,  2.93612    ,  0.15167    ,  0.359263   ,  0.862962   ])\n"
       ]
      },
      {
       "output_type": "stream",
       "stream": "stdout",
       "text": [
        "2604    , -2391.1     , array([ 0.728949   ,  5.01282    ,  2.75393    ,  2.93612    ,  0.15167    ,  0.359263   ,  0.862962   ])\n"
       ]
      },
      {
       "output_type": "stream",
       "stream": "stdout",
       "text": [
        "2611    , -2391.19    , array([ 0.728949   ,  5.01282    ,  2.75393    ,  2.93612    ,  0.15167    ,  0.359263   ,  0.863825   ])\n",
        "2618    , -2391.1     , array([ 0.728949   ,  5.01282    ,  2.75393    ,  2.93612    ,  0.151822   ,  0.359263   ,  0.862962   ])\n"
       ]
      },
      {
       "output_type": "stream",
       "stream": "stdout",
       "text": [
        "2625    , -2391.1     , array([ 0.728949   ,  5.01282    ,  2.75669    ,  2.93612    ,  0.15167    ,  0.359263   ,  0.862962   ])\n",
        "2632    , -2391.1     , array([ 0.729678   ,  5.01282    ,  2.75393    ,  2.93612    ,  0.15167    ,  0.359263   ,  0.862962   ])\n"
       ]
      },
      {
       "output_type": "stream",
       "stream": "stdout",
       "text": [
        "2639    , -2391.1     , array([ 0.728949   ,  5.01282    ,  2.75393    ,  2.93612    ,  0.15167    ,  0.359263   ,  0.862962   ])\n",
        "2646    , -2391.18    , array([ 0.728949   ,  5.01282    ,  2.75393    ,  2.93612    ,  0.15167    ,  0.359623   ,  0.862962   ])\n"
       ]
      },
      {
       "output_type": "stream",
       "stream": "stdout",
       "text": [
        "2653    , -2391.1     , array([ 0.728949   ,  5.01282    ,  2.75393    ,  2.93906    ,  0.15167    ,  0.359263   ,  0.862962   ])\n",
        "2660    , -2391.1     , array([ 0.728949   ,  5.01783    ,  2.75393    ,  2.93612    ,  0.15167    ,  0.359263   ,  0.862962   ])\n"
       ]
      },
      {
       "output_type": "stream",
       "stream": "stdout",
       "text": [
        "2667    , -2391.1     , array([ 0.728949   ,  5.01282    ,  2.75393    ,  2.93612    ,  0.15167    ,  0.359263   ,  0.862962   ])\n"
       ]
      },
      {
       "output_type": "stream",
       "stream": "stdout",
       "text": [
        "2674    , -2391.19    , array([ 0.728949   ,  5.01282    ,  2.75393    ,  2.93612    ,  0.15167    ,  0.359263   ,  0.863825   ])\n",
        "2681    , -2391.11    , array([ 0.728923   ,  5.01296    ,  2.75402    ,  2.9361     ,  0.151817   ,  0.359279   ,  0.862973   ])\n"
       ]
      },
      {
       "output_type": "stream",
       "stream": "stdout",
       "text": [
        "2688    , -2391.1     , array([ 0.728956   ,  5.01779    ,  2.75391    ,  2.93613    ,  0.151671   ,  0.359259   ,  0.862959   ])\n",
        "2695    , -2391.11    , array([ 0.728962   ,  5.01275    ,  2.75389    ,  2.93613    ,  0.151672   ,  0.359256   ,  0.862956   ])\n"
       ]
      },
      {
       "output_type": "stream",
       "stream": "stdout",
       "text": [
        "2702    , -2391.1     , array([ 0.728956   ,  5.01278    ,  2.75391    ,  2.93613    ,  0.151671   ,  0.359259   ,  0.862959   ])\n",
        "Optimized parameters array([ 0.72969896,  5.00857568,  2.75143945,  2.93683746,  0.15180126,\n",
        "        0.35880524,  0.86264029])\n",
        "Optimized log-likelihood:"
       ]
      },
      {
       "output_type": "stream",
       "stream": "stdout",
       "text": [
        " -2391.20471659\n"
       ]
      },
      {
       "metadata": {},
       "output_type": "display_data",
       "png": "[encoded data removed]",
       "text": [
        "<matplotlib.figure.Figure at 0x10749c3d0>"
       ]
      }
     ],
     "prompt_number": 15
    },
    {
     "cell_type": "markdown",
     "metadata": {},
     "source": [
      "#Decent runs:\n",
      "\n",
      "Optimized parameters array([ 1.58158059,  4.13281629,  2.20601142,  3.12405662,  0.31451535,\n",
      "        0.01358399,  0.76416679])\n",
      "        \n",
      "Optimized log-likelihood: -4472.0246607\n",
      "\n",
      "29980.3907216\n",
      "\n",
      "---\n",
      "\n",
      "Optimized parameters array([ 0.62748067,  7.79873322,  3.25464204,  3.08059549,  0.18619164,\n",
      "        0.19584753,  0.63000724])\n",
      "\n",
      "Optimized log-likelihood: -3777.5759732\n",
      "\n",
      "20215.5301241\n",
      "\n",
      "---\n",
      "### starting to converge\n",
      "Optimized parameters array([ 0.69472001,  5.07779513,  2.67047645,  2.98693703,  0.15201385,\n",
      "        0.35964084,  0.87752393])\n",
      "\n",
      "Optimized log-likelihood: -2396.43997249\n",
      "\n",
      "21305.6476433\n",
      "\n",
      "---\n",
      "\n",
      "Optimized parameters array([ 0.69530139,  5.096905  ,  2.77473624,  2.98560661,  0.13801424,\n",
      "        0.38425719,  0.86979715])\n",
      "\n",
      "Optimized log-likelihood: -2399.79139666\n",
      "\n",
      "19596.5853371\n",
      "\n",
      "---\n",
      "\n",
      "Optimized parameters array([ 0.7312435 ,  5.02414625,  2.66818443,  2.95921731,  0.15271247,\n",
      "        0.35667577,  0.85838483])\n",
      "        \n",
      "Optimized log-likelihood: -2391.67536798\n",
      "\n",
      "19596.5853371\n",
      "\n",
      "---\n",
      "\n",
      "Optimized parameters array([ 0.72969896,  5.00857568,  2.75143945,  2.93683746,  0.15180126,\n",
      "        0.35880524,  0.86264029])\n",
      "\n",
      "Optimized log-likelihood: -2391.20471659\n",
      "\n",
      "19751.3681362"
     ]
    }
   ],
   "metadata": {}
  }
 ]
}