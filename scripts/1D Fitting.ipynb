{
 "metadata": {
  "name": "",
  "signature": "sha256:0a7d38e60ec2dad5212f28decae51c951ccfe570a7c6fc97995b19d9b72dad10"
 },
 "nbformat": 3,
 "nbformat_minor": 0,
 "worksheets": [
  {
   "cells": [
    {
     "cell_type": "markdown",
     "metadata": {},
     "source": [
      "This IPython notebook will try to fit 1D models to each of the 3 populations."
     ]
    },
    {
     "cell_type": "code",
     "collapsed": false,
     "input": [
      "%matplotlib inline\n",
      "import dadi\n",
      "import numpy\n",
      "import pylab\n",
      "import oneD_models\n",
      "\n",
      "from numpy import array\n"
     ],
     "language": "python",
     "metadata": {},
     "outputs": [],
     "prompt_number": 1
    },
    {
     "cell_type": "markdown",
     "metadata": {},
     "source": [
      "#1. Use Canary subset (no structure) to fit 1D models.\n",
      "\n",
      "0 = Canaries\n",
      "\n",
      "1 = Morocco\n",
      "\n",
      "2 = Iberia"
     ]
    },
    {
     "cell_type": "code",
     "collapsed": false,
     "input": [
      "cadata = dadi.Spectrum.from_file('../data/matrix_dadi_canarianSubset.transp.genodadiSpectrum.txt')"
     ],
     "language": "python",
     "metadata": {},
     "outputs": [],
     "prompt_number": 3
    },
    {
     "cell_type": "markdown",
     "metadata": {},
     "source": [
      "### 1A. Canaries 1D\n"
     ]
    },
    {
     "cell_type": "code",
     "collapsed": false,
     "input": [
      "cadata = dadi.Spectrum.from_file('../data/matrix_dadi_canarianSubset.transp.genodadiSpectrum.txt')\n",
      "data = cadata.marginalize([1,2])\n",
      "dadi.Plotting.plot_1d_fs(data, fig_num=1)"
     ],
     "language": "python",
     "metadata": {},
     "outputs": [
      {
       "metadata": {},
       "output_type": "display_data",
       "png": "[encoded data removed]",
       "text": [
        "<matplotlib.figure.Figure at 0x107241d10>"
       ]
      }
     ],
     "prompt_number": 9
    },
    {
     "cell_type": "markdown",
     "metadata": {},
     "source": [
      "Canaries 1D:\n",
      "\n",
      "- bottleneck((nuB, nuF, TB, TF), ns, pts)"
     ]
    },
    {
     "cell_type": "code",
     "collapsed": false,
     "input": [
      "ns = data.sample_sizes\n",
      "pts_l = [40, 50, 60]\n",
      "# params = array([0.2, 1.3, 0.4, 1.4])\n",
      "# upper_bound = [20, 10, 15, 15]\n",
      "# lower_bound = [1e-3, 1e-3, 1e-4, 1e-4]\n",
      "params = array([5e-3, 3.65816852e+00, 1.43577503e+00, 10])\n",
      "upper_bound = [5, 10, 15, 100]\n",
      "lower_bound = [1e-6, 1e-3, 1e-4, 1e-2]\n",
      "\n",
      "func = oneD_models.bottleneck\n",
      "func_ex = dadi.Numerics.make_extrap_log_func(func)"
     ],
     "language": "python",
     "metadata": {},
     "outputs": [],
     "prompt_number": 17
    },
    {
     "cell_type": "code",
     "collapsed": false,
     "input": [
      "c_model = func_ex(params, ns, pts_l)\n",
      "ll_c_model = dadi.Inference.ll_multinom(c_model, data)\n",
      "print 'Model log-likelihood:', ll_c_model\n",
      "theta = dadi.Inference.optimal_sfs_scaling(c_model, data)"
     ],
     "language": "python",
     "metadata": {},
     "outputs": [
      {
       "output_type": "stream",
       "stream": "stdout",
       "text": [
        "Model log-likelihood: -1391.25663334\n"
       ]
      }
     ],
     "prompt_number": 21
    },
    {
     "cell_type": "code",
     "collapsed": false,
     "input": [
      "p0 = dadi.Misc.perturb_params(params, fold=1, upper_bound=upper_bound)\n",
      "popt = dadi.Inference.optimize_log(p0, data, func_ex, pts_l,\n",
      "                                   lower_bound=lower_bound,\n",
      "                                   upper_bound=upper_bound,\n",
      "                                   verbose=len(params),\n",
      "                                   maxiter=3)\n",
      "print 'Optimized parameters', repr(popt)\n",
      "c_model = func_ex(popt, ns, pts_l)\n",
      "ll_opt = dadi.Inference.ll_multinom(c_model, data)\n",
      "print 'Optimized log-likelihood:', ll_opt"
     ],
     "language": "python",
     "metadata": {},
     "outputs": [
      {
       "output_type": "stream",
       "stream": "stdout",
       "text": [
        "328     , -3038.9     , array([ 0.00830679 ,  6.63938    ,  2.68783    ,  9.2472     ])\n"
       ]
      },
      {
       "output_type": "stream",
       "stream": "stdout",
       "text": [
        "332     , -3034.39    , array([ 0.00830679 ,  6.63938    ,  2.68783    ,  9.25645    ])\n",
        "348     , -1064.33    , array([ 0.00832313 ,  2.53569    ,  2.68783    ,  24.1513    ])\n"
       ]
      },
      {
       "output_type": "stream",
       "stream": "stdout",
       "text": [
        "352     , -1064.32    , array([ 0.00829825 ,  2.51091    ,  2.68783    ,  23.9457    ])\n"
       ]
      },
      {
       "output_type": "stream",
       "stream": "stdout",
       "text": [
        "356     , -1064.32    , array([ 0.00829825 ,  2.51091    ,  2.69052    ,  23.9457    ])\n",
        "360     , -1064.31    , array([ 0.00824056 ,  2.4142     ,  2.68783    ,  23.1406    ])\n"
       ]
      },
      {
       "output_type": "stream",
       "stream": "stdout",
       "text": [
        "364     , -1064.26    , array([ 0.00797382 ,  2.06321    ,  2.68783    ,  20.182     ])\n"
       ]
      },
      {
       "output_type": "stream",
       "stream": "stdout",
       "text": [
        "368     , -1064.26    , array([ 0.00797382 ,  2.06321    ,  2.69052    ,  20.182     ])\n",
        "372     , -1064.15    , array([ 0.0073024  ,  1.32585    ,  2.68783    ,  13.7275    ])\n"
       ]
      },
      {
       "output_type": "stream",
       "stream": "stdout",
       "text": [
        "Optimized parameters array([  7.29510103e-03,   1.32585489e+00,   2.68783188e+00,\n",
        "         1.37275267e+01])\n",
        "Optimized log-likelihood:"
       ]
      },
      {
       "output_type": "stream",
       "stream": "stdout",
       "text": [
        " -1064.1491248\n"
       ]
      }
     ],
     "prompt_number": 22
    },
    {
     "cell_type": "code",
     "collapsed": false,
     "input": [
      "pylab.figure(figsize=(9, 9), dpi=300)\n",
      "dadi.Plotting.plot_1d_comp_multinom(c_model, data)\n",
      "pylab.show()"
     ],
     "language": "python",
     "metadata": {},
     "outputs": [
      {
       "metadata": {},
       "output_type": "display_data",
       "png": "[encoded data removed]",
       "text": [
        "<matplotlib.figure.Figure at 0x107386150>"
       ]
      }
     ],
     "prompt_number": 23
    },
    {
     "cell_type": "markdown",
     "metadata": {},
     "source": [
      "### 1D. Canaries (bottleneck, exp growth)"
     ]
    },
    {
     "cell_type": "code",
     "collapsed": false,
     "input": [
      "cadata = dadi.Spectrum.from_file('../data/matrix_dadi_canarianSubset.transp.genodadiSpectrum.txt')\n",
      "data = cadata.marginalize([1,2])\n",
      "ns = data.sample_sizes\n",
      "pts_l = [40, 50, 60]\n",
      "# params = array([0.2, 1.3, 0.4, 1.4])\n",
      "# upper_bound = [20, 10, 15, 15]\n",
      "# lower_bound = [1e-3, 1e-3, 1e-4, 1e-4]\n",
      "params = array([0.1, 0.1, 1, 0.1])\n",
      "upper_bound = [1, 1, 10, 1]\n",
      "lower_bound = [1e-6, 1e-6, 1e-6, 1e-6]\n",
      "\n",
      "func = oneD_models.bottleneck_exp\n",
      "func_ex = dadi.Numerics.make_extrap_log_func(func)"
     ],
     "language": "python",
     "metadata": {},
     "outputs": [],
     "prompt_number": 17
    },
    {
     "cell_type": "code",
     "collapsed": false,
     "input": [
      "c_model = func_ex(params, ns, pts_l)\n",
      "ll_c_model = dadi.Inference.ll_multinom(c_model, data)\n",
      "print 'Model log-likelihood:', ll_c_model\n",
      "theta = dadi.Inference.optimal_sfs_scaling(c_model, data)"
     ],
     "language": "python",
     "metadata": {},
     "outputs": [
      {
       "output_type": "stream",
       "stream": "stdout",
       "text": [
        "Model log-likelihood: -2211.62554256\n"
       ]
      }
     ],
     "prompt_number": 12
    },
    {
     "cell_type": "code",
     "collapsed": false,
     "input": [
      "p0 = dadi.Misc.perturb_params(params, fold=1, upper_bound=upper_bound)\n",
      "popt = dadi.Inference.optimize_log(p0, data, func_ex, pts_l,\n",
      "                                   lower_bound=lower_bound,\n",
      "                                   upper_bound=upper_bound,\n",
      "                                   verbose=len(params),\n",
      "                                   maxiter=15)\n",
      "print 'Optimized parameters', repr(popt)\n",
      "c_model = func_ex(popt, ns, pts_l)\n",
      "ll_opt = dadi.Inference.ll_multinom(c_model, data)\n",
      "print 'Optimized log-likelihood:', ll_opt"
     ],
     "language": "python",
     "metadata": {},
     "outputs": [
      {
       "output_type": "stream",
       "stream": "stdout",
       "text": [
        "1324    , -2294.76    , array([ 0.0658439  ,  0.0575185  ,  1.13643    ,  0.0524863  ])\n"
       ]
      },
      {
       "output_type": "stream",
       "stream": "stdout",
       "text": [
        "1328    , -2293.85    , array([ 0.0658439  ,  0.0575185  ,  1.13643    ,  0.0525388  ])\n",
        "1344    , -2038.5     , array([ 0.0688272  ,  0.0549005  ,  1.13643    ,  0.0532642  ])\n"
       ]
      },
      {
       "output_type": "stream",
       "stream": "stdout",
       "text": [
        "1348    , -127.848    , array([ 0.140913   ,  0.0253746  ,  1.13642    ,  0.0679645  ])\n",
        "1352    , -127.846    , array([ 0.140913   ,  0.0253746  ,  1.13756    ,  0.0679645  ])\n"
       ]
      },
      {
       "output_type": "stream",
       "stream": "stdout",
       "text": [
        "1360    , -127.843    , array([ 0.140923   ,  0.0253754  ,  1.13643    ,  0.0679579  ])\n",
        "1364    , -127.841    , array([ 0.140923   ,  0.0253754  ,  1.13756    ,  0.0679579  ])\n"
       ]
      },
      {
       "output_type": "stream",
       "stream": "stdout",
       "text": [
        "1368    , -127.886    , array([ 0.141115   ,  0.0253798  ,  1.13646    ,  0.0679239  ])\n",
        "1380    , -127.885    , array([ 0.141118   ,  0.02538    ,  1.13646    ,  0.0679222  ])\n"
       ]
      },
      {
       "output_type": "stream",
       "stream": "stdout",
       "text": [
        "1384    , -127.808    , array([ 0.140989   ,  0.025381   ,  1.13647    ,  0.0679138  ])\n",
        "1388    , -127.806    , array([ 0.140989   ,  0.025381   ,  1.1376     ,  0.0679138  ])\n"
       ]
      },
      {
       "output_type": "stream",
       "stream": "stdout",
       "text": [
        "1396    , -127.807    , array([ 0.14099    ,  0.0253811  ,  1.13647    ,  0.0679133  ])\n",
        "1400    , -127.806    , array([ 0.14099    ,  0.0253811  ,  1.1376     ,  0.0679133  ])\n"
       ]
      },
      {
       "output_type": "stream",
       "stream": "stdout",
       "text": [
        "1404    , -127.876    , array([ 0.141134   ,  0.0253814  ,  1.13647    ,  0.0679112  ])\n",
        "1416    , -127.876    , array([ 0.141134   ,  0.0253814  ,  1.13647    ,  0.0679111  ])\n"
       ]
      },
      {
       "output_type": "stream",
       "stream": "stdout",
       "text": [
        "1420    , -127.805    , array([ 0.140994   ,  0.0253814  ,  1.13647    ,  0.0679106  ])\n",
        "1424    , -127.803    , array([ 0.140994   ,  0.0253814  ,  1.13761    ,  0.0679106  ])\n"
       ]
      },
      {
       "output_type": "stream",
       "stream": "stdout",
       "text": [
        "1428    , -428.9      , array([ 0.621389   ,  0.0509974  ,  1.26544    ,  0.00879996 ])\n",
        "1432    , -127.417    , array([ 0.163424   ,  0.0272081  ,  1.1487     ,  0.0554047  ])\n"
       ]
      },
      {
       "output_type": "stream",
       "stream": "stdout",
       "text": [
        "1436    , -127.42     , array([ 0.163424   ,  0.0272081  ,  1.14985    ,  0.0554047  ])\n",
        "1440    , -126.259    , array([ 0.178295   ,  0.0305195  ,  1.05056    ,  0.0617136  ])\n"
       ]
      },
      {
       "output_type": "stream",
       "stream": "stdout",
       "text": [
        "1444    , -140.943    , array([ 0.251341   ,  0.0483166  ,  0.734976   ,  0.0949991  ])\n",
        "1448    , -140.842    , array([ 0.251341   ,  0.0483166  ,  0.735711   ,  0.0949991  ])\n"
       ]
      },
      {
       "output_type": "stream",
       "stream": "stdout",
       "text": [
        "1452    , -125.436    , array([ 0.191745   ,  0.033629   ,  0.974215   ,  0.0675997  ])\n",
        "1456    , -390.259    , array([ 0.307311   ,  0.0611077  ,  0.278527   ,  0.110306   ])\n"
       ]
      },
      {
       "output_type": "stream",
       "stream": "stdout",
       "text": [
        "1460    , -390.022    , array([ 0.307311   ,  0.0611077  ,  0.278806   ,  0.110306   ])\n",
        "1464    , -125.422    , array([ 0.192029   ,  0.0336918  ,  0.970415   ,  0.0677032  ])\n"
       ]
      },
      {
       "output_type": "stream",
       "stream": "stdout",
       "text": [
        "1468    , -125.428    , array([ 0.191973   ,  0.0337219  ,  0.968596   ,  0.0677528  ])\n",
        "1472    , -125.43     , array([ 0.191973   ,  0.0337219  ,  0.969565   ,  0.0677528  ])\n"
       ]
      },
      {
       "output_type": "stream",
       "stream": "stdout",
       "text": [
        "1476    , -201.598    , array([ 0.243132   ,  0.0453946  ,  0.519404   ,  0.0864496  ])\n",
        "1480    , -125.386    , array([ 0.192923   ,  0.0339331  ,  0.956003   ,  0.0681005  ])\n"
       ]
      },
      {
       "output_type": "stream",
       "stream": "stdout",
       "text": [
        "1484    , -125.388    , array([ 0.192923   ,  0.0339331  ,  0.956959   ,  0.0681005  ])\n",
        "1488    , -125.365    , array([ 0.183747   ,  0.0321471  ,  0.896736   ,  0.0656678  ])\n"
       ]
      },
      {
       "output_type": "stream",
       "stream": "stdout",
       "text": [
        "1492    , -125.367    , array([ 0.179062   ,  0.0313148  ,  0.879823   ,  0.0645914  ])\n",
        "1496    , -125.367    , array([ 0.179062   ,  0.0313148  ,  0.880704   ,  0.0645914  ])\n"
       ]
      },
      {
       "output_type": "stream",
       "stream": "stdout",
       "text": [
        "1500    , -125.365    , array([ 0.182784   ,  0.0319691  ,  0.893129   ,  0.0654384  ])\n",
        "1504    , -125.367    , array([ 0.180257   ,  0.0315358  ,  0.884325   ,  0.0648781  ])\n"
       ]
      },
      {
       "output_type": "stream",
       "stream": "stdout",
       "text": [
        "1508    , -125.366    , array([ 0.180257   ,  0.0315358  ,  0.88521    ,  0.0648781  ])\n",
        "1512    , -125.366    , array([ 0.182289   ,  0.0318776  ,  0.891273   ,  0.0653203  ])\n"
       ]
      },
      {
       "output_type": "stream",
       "stream": "stdout",
       "text": [
        "1516    , -125.366    , array([ 0.182497   ,  0.0319498  ,  0.892737   ,  0.0654135  ])\n",
        "1520    , -125.366    , array([ 0.182497   ,  0.0319498  ,  0.89363    ,  0.0654135  ])\n"
       ]
      },
      {
       "output_type": "stream",
       "stream": "stdout",
       "text": [
        "1524    , -125.366    , array([ 0.182421   ,  0.0319021  ,  0.89177    ,  0.065352   ])\n",
        "1528    , -125.366    , array([ 0.182442   ,  0.0319397  ,  0.892533   ,  0.0654005  ])\n"
       ]
      },
      {
       "output_type": "stream",
       "stream": "stdout",
       "text": [
        "1532    , -125.366    , array([ 0.182442   ,  0.0319397  ,  0.893426   ,  0.0654005  ])\n",
        "1536    , -125.365    , array([ 0.182668   ,  0.0319476  ,  0.892694   ,  0.0654107  ])\n"
       ]
      },
      {
       "output_type": "stream",
       "stream": "stdout",
       "text": [
        "1540    , -125.366    , array([ 0.182494   ,  0.0319493  ,  0.892728   ,  0.0654129  ])\n",
        "1544    , -125.366    , array([ 0.182494   ,  0.0319493  ,  0.893621   ,  0.0654129  ])\n"
       ]
      },
      {
       "output_type": "stream",
       "stream": "stdout",
       "text": [
        "1548    , -125.365    , array([ 0.182679   ,  0.0319497  ,  0.892735   ,  0.0654133  ])\n",
        "1552    , -125.366    , array([ 0.182496   ,  0.0319497  ,  0.892737   ,  0.0654134  ])\n"
       ]
      },
      {
       "output_type": "stream",
       "stream": "stdout",
       "text": [
        "1556    , -125.366    , array([ 0.182496   ,  0.0319497  ,  0.89363    ,  0.0654134  ])\n",
        "1560    , -125.365    , array([ 0.182679   ,  0.0319498  ,  0.892737   ,  0.0654135  ])\n"
       ]
      },
      {
       "output_type": "stream",
       "stream": "stdout",
       "text": [
        "1564    , -125.366    , array([ 0.182496   ,  0.0319498  ,  0.892737   ,  0.0654135  ])\n",
        "1568    , -125.366    , array([ 0.182496   ,  0.0319498  ,  0.89363    ,  0.0654135  ])\n"
       ]
      },
      {
       "output_type": "stream",
       "stream": "stdout",
       "text": [
        "1572    , -125.365    , array([ 0.182679   ,  0.0319498  ,  0.892737   ,  0.0654135  ])\n",
        "1576    , -125.366    , array([ 0.182496   ,  0.0319498  ,  0.892737   ,  0.0654135  ])\n"
       ]
      },
      {
       "output_type": "stream",
       "stream": "stdout",
       "text": [
        "1580    , -125.366    , array([ 0.182496   ,  0.0319498  ,  0.89363    ,  0.0654135  ])\n",
        "1584    , -125.365    , array([ 0.182679   ,  0.0319498  ,  0.892737   ,  0.0654135  ])\n"
       ]
      },
      {
       "output_type": "stream",
       "stream": "stdout",
       "text": [
        "1588    , -125.366    , array([ 0.182496   ,  0.0319498  ,  0.892737   ,  0.0654135  ])\n",
        "1592    , -125.366    , array([ 0.182496   ,  0.0319498  ,  0.89363    ,  0.0654135  ])\n"
       ]
      },
      {
       "output_type": "stream",
       "stream": "stdout",
       "text": [
        "1596    , -125.365    , array([ 0.182679   ,  0.0319498  ,  0.892737   ,  0.0654135  ])\n",
        "1600    , -125.366    , array([ 0.182496   ,  0.0319498  ,  0.892737   ,  0.0654135  ])\n"
       ]
      },
      {
       "output_type": "stream",
       "stream": "stdout",
       "text": [
        "1604    , -125.366    , array([ 0.182496   ,  0.0319498  ,  0.89363    ,  0.0654135  ])\n",
        "1608    , -125.365    , array([ 0.182679   ,  0.0319498  ,  0.892737   ,  0.0654135  ])\n"
       ]
      },
      {
       "output_type": "stream",
       "stream": "stdout",
       "text": [
        "1612    , -125.366    , array([ 0.182496   ,  0.0319498  ,  0.892737   ,  0.0654135  ])\n",
        "1616    , -125.366    , array([ 0.182496   ,  0.0319498  ,  0.89363    ,  0.0654135  ])\n"
       ]
      },
      {
       "output_type": "stream",
       "stream": "stdout",
       "text": [
        "1620    , -125.365    , array([ 0.182679   ,  0.0319498  ,  0.892737   ,  0.0654135  ])\n",
        "1624    , -125.366    , array([ 0.182496   ,  0.0319498  ,  0.892737   ,  0.0654135  ])\n"
       ]
      },
      {
       "output_type": "stream",
       "stream": "stdout",
       "text": [
        "1628    , -125.366    , array([ 0.182496   ,  0.0319498  ,  0.89363    ,  0.0654135  ])\n",
        "1632    , -125.365    , array([ 0.182679   ,  0.0319498  ,  0.892737   ,  0.0654135  ])\n"
       ]
      },
      {
       "output_type": "stream",
       "stream": "stdout",
       "text": [
        "1636    , -125.366    , array([ 0.182496   ,  0.0319498  ,  0.892737   ,  0.0654135  ])\n",
        "1640    , -125.366    , array([ 0.182496   ,  0.0319498  ,  0.89363    ,  0.0654135  ])\n"
       ]
      },
      {
       "output_type": "stream",
       "stream": "stdout",
       "text": [
        "1644    , -125.365    , array([ 0.182679   ,  0.0319498  ,  0.892737   ,  0.0654135  ])\n",
        "1648    , -125.366    , array([ 0.182496   ,  0.0319498  ,  0.892737   ,  0.0654135  ])\n"
       ]
      },
      {
       "output_type": "stream",
       "stream": "stdout",
       "text": [
        "1652    , -125.366    , array([ 0.182496   ,  0.0319498  ,  0.89363    ,  0.0654135  ])\n",
        "1656    , -125.365    , array([ 0.182679   ,  0.0319498  ,  0.892737   ,  0.0654135  ])\n"
       ]
      },
      {
       "output_type": "stream",
       "stream": "stdout",
       "text": [
        "1660    , -125.366    , array([ 0.182496   ,  0.0319498  ,  0.892737   ,  0.0654135  ])\n",
        "1664    , -125.366    , array([ 0.182496   ,  0.0319498  ,  0.89363    ,  0.0654135  ])\n"
       ]
      },
      {
       "output_type": "stream",
       "stream": "stdout",
       "text": [
        "1668    , -125.365    , array([ 0.182679   ,  0.0319498  ,  0.892737   ,  0.0654135  ])\n",
        "1672    , -125.367    , array([ 0.179062   ,  0.0313148  ,  0.879823   ,  0.0645914  ])\n"
       ]
      },
      {
       "output_type": "stream",
       "stream": "stdout",
       "text": [
        "1676    , -125.365    , array([ 0.182794   ,  0.0319709  ,  0.893166   ,  0.0654408  ])\n"
       ]
      },
      {
       "output_type": "stream",
       "stream": "stdout",
       "text": [
        "1680    , -125.366    , array([ 0.181853   ,  0.0318307  ,  0.890322   ,  0.0652598  ])\n",
        "1684    , -125.365    , array([ 0.182658   ,  0.0319459  ,  0.89266    ,  0.0654085  ])\n"
       ]
      },
      {
       "output_type": "stream",
       "stream": "stdout",
       "text": [
        "1688    , -125.366    , array([ 0.182374   ,  0.0319272  ,  0.892279   ,  0.0653843  ])\n",
        "1692    , -125.366    , array([ 0.182472   ,  0.0319453  ,  0.892647   ,  0.0654077  ])\n"
       ]
      },
      {
       "output_type": "stream",
       "stream": "stdout",
       "text": [
        "Optimized parameters array([ 0.18356339,  0.03214711,  0.89673632,  0.06566776])\n",
        "Optimized log-likelihood:"
       ]
      },
      {
       "output_type": "stream",
       "stream": "stdout",
       "text": [
        " -125.366335259\n"
       ]
      }
     ],
     "prompt_number": 18
    },
    {
     "cell_type": "code",
     "collapsed": false,
     "input": [
      "pylab.figure(figsize=(9, 9), dpi=300)\n",
      "dadi.Plotting.plot_1d_comp_multinom(c_model, data)\n",
      "pylab.show()"
     ],
     "language": "python",
     "metadata": {},
     "outputs": [
      {
       "metadata": {},
       "output_type": "display_data",
       "png": "[encoded data removed]",
       "text": [
        "<matplotlib.figure.Figure at 0x108333a50>"
       ]
      }
     ],
     "prompt_number": 19
    },
    {
     "cell_type": "markdown",
     "metadata": {},
     "source": [
      "### 1E. Canaries (no bottleneck, exp growth)"
     ]
    },
    {
     "cell_type": "code",
     "collapsed": false,
     "input": [
      "cadata = dadi.Spectrum.from_file('../data/matrix_dadi_canarianSubset.transp.genodadiSpectrum.txt')\n",
      "data = cadata.marginalize([1,2])\n",
      "\n",
      "ns = data.sample_sizes\n",
      "pts_l = [40, 50, 60]\n",
      "params = array([1.5, 1.3])\n",
      "upper_bound = [50, 10]\n",
      "lower_bound = [1e-5, 1e-5]\n",
      "\n",
      "func = oneD_models.growth\n",
      "func_ex = dadi.Numerics.make_extrap_log_func(func)"
     ],
     "language": "python",
     "metadata": {},
     "outputs": [],
     "prompt_number": 52
    },
    {
     "cell_type": "code",
     "collapsed": false,
     "input": [
      "c_model = func_ex(params, ns, pts_l)\n",
      "ll_c_model = dadi.Inference.ll_multinom(c_model, data)\n",
      "print 'Model log-likelihood:', ll_c_model\n",
      "theta = dadi.Inference.optimal_sfs_scaling(c_model, data)"
     ],
     "language": "python",
     "metadata": {},
     "outputs": [
      {
       "output_type": "stream",
       "stream": "stdout",
       "text": [
        "Model log-likelihood: -1757.04568448\n"
       ]
      }
     ],
     "prompt_number": 53
    },
    {
     "cell_type": "code",
     "collapsed": false,
     "input": [
      "p0 = dadi.Misc.perturb_params(params, fold=1, upper_bound=upper_bound)\n",
      "popt = dadi.Inference.optimize_log(p0, data, func_ex, pts_l,\n",
      "                                   lower_bound=lower_bound,\n",
      "                                   upper_bound=upper_bound,\n",
      "                                   verbose=len(params),\n",
      "                                   maxiter=50)\n",
      "print 'Optimized parameters', repr(popt)\n",
      "c_model = func_ex(popt, ns, pts_l)\n",
      "ll_opt = dadi.Inference.ll_multinom(c_model, data)\n",
      "print 'Optimized log-likelihood:', ll_opt"
     ],
     "language": "python",
     "metadata": {},
     "outputs": [
      {
       "output_type": "stream",
       "stream": "stdout",
       "text": [
        "1484    , -786.782    , array([ 0.812393   ,  0.945448   ])\n"
       ]
      },
      {
       "output_type": "stream",
       "stream": "stdout",
       "text": [
        "1486    , -786.802    , array([ 0.812393   ,  0.946394   ])\n",
        "1492    , -408.749    , array([ 0.047421   ,  0.900955   ])\n"
       ]
      },
      {
       "output_type": "stream",
       "stream": "stdout",
       "text": [
        "1494    , -408.238    , array([ 0.0474685  ,  0.900955   ])\n",
        "1496    , -845.3      , array([ 0.0256544  ,  0.259732   ])\n"
       ]
      },
      {
       "output_type": "stream",
       "stream": "stdout",
       "text": [
        "1498    , -845.809    , array([ 0.0256801  ,  0.259732   ])\n",
        "1500    , -205.27     , array([ 0.0389699  ,  0.605513   ])\n"
       ]
      },
      {
       "output_type": "stream",
       "stream": "stdout",
       "text": [
        "1502    , -205.082    , array([ 0.0390089  ,  0.605513   ])\n",
        "1504    , -247.084    , array([ 0.0305542  ,  0.427438   ])\n"
       ]
      },
      {
       "output_type": "stream",
       "stream": "stdout",
       "text": [
        "1506    , -247.456    , array([ 0.0305847  ,  0.427438   ])\n",
        "1508    , -191.665    , array([ 0.0359419  ,  0.53931    ])\n"
       ]
      },
      {
       "output_type": "stream",
       "stream": "stdout",
       "text": [
        "1510    , -191.65     , array([ 0.0359779  ,  0.53931    ])\n",
        "1512    , -191.619    , array([ 0.0358982  ,  0.536168   ])\n"
       ]
      },
      {
       "output_type": "stream",
       "stream": "stdout",
       "text": [
        "1514    , -191.617    , array([ 0.0359341  ,  0.536168   ])\n",
        "1516    , -191.596    , array([ 0.0361115  ,  0.537923   ])\n"
       ]
      },
      {
       "output_type": "stream",
       "stream": "stdout",
       "text": [
        "1518    , -191.593    , array([ 0.0361476  ,  0.537923   ])\n",
        "1520    , -191.504    , array([ 0.0369775  ,  0.544997   ])\n"
       ]
      },
      {
       "output_type": "stream",
       "stream": "stdout",
       "text": [
        "1522    , -191.5      , array([ 0.0370145  ,  0.544997   ])\n",
        "1524    , -191.171    , array([ 0.040654   ,  0.574238   ])\n"
       ]
      },
      {
       "output_type": "stream",
       "stream": "stdout",
       "text": [
        "1526    , -191.157    , array([ 0.0406947  ,  0.574238   ])\n",
        "1528    , -191.832    , array([ 0.0689068  ,  0.76062    ])\n"
       ]
      },
      {
       "output_type": "stream",
       "stream": "stdout",
       "text": [
        "1530    , -191.768    , array([ 0.0689758  ,  0.76062    ])\n",
        "1532    , -190.624    , array([ 0.0506441  ,  0.645545   ])\n"
       ]
      },
      {
       "output_type": "stream",
       "stream": "stdout",
       "text": [
        "1534    , -190.591    , array([ 0.0506948  ,  0.645545   ])\n",
        "1536    , -190.336    , array([ 0.0521905  ,  0.652904   ])\n"
       ]
      },
      {
       "output_type": "stream",
       "stream": "stdout",
       "text": [
        "1538    , -190.309    , array([ 0.0522427  ,  0.652904   ])\n",
        "1540    , -189.633    , array([ 0.0606486  ,  0.699143   ])\n"
       ]
      },
      {
       "output_type": "stream",
       "stream": "stdout",
       "text": [
        "1542    , -189.606    , array([ 0.0607093  ,  0.699143   ])\n",
        "1544    , -188.272    , array([ 0.0813646  ,  0.791463   ])\n"
       ]
      },
      {
       "output_type": "stream",
       "stream": "stdout",
       "text": [
        "1546    , -188.243    , array([ 0.081446   ,  0.791463   ])\n",
        "1548    , -186.076    , array([ 0.112132   ,  0.877749   ])\n"
       ]
      },
      {
       "output_type": "stream",
       "stream": "stdout",
       "text": [
        "1550    , -186.05     , array([ 0.112244   ,  0.877749   ])\n",
        "1552    , -182.771    , array([ 0.1352     ,  0.883217   ])\n"
       ]
      },
      {
       "output_type": "stream",
       "stream": "stdout",
       "text": [
        "1554    , -182.755    , array([ 0.135336   ,  0.883217   ])\n",
        "1556    , -190        , array([ 0.242006   ,  0.987216   ])\n"
       ]
      },
      {
       "output_type": "stream",
       "stream": "stdout",
       "text": [
        "1558    , -190.041    , array([ 0.242249   ,  0.987216   ])\n",
        "1560    , -180.878    , array([ 0.165191   ,  0.917706   ])\n"
       ]
      },
      {
       "output_type": "stream",
       "stream": "stdout",
       "text": [
        "1562    , -180.862    , array([ 0.165357   ,  0.917706   ])\n",
        "1564    , -181.209    , array([ 0.226567   ,  0.937047   ])\n"
       ]
      },
      {
       "output_type": "stream",
       "stream": "stdout",
       "text": [
        "1566    , -181.227    , array([ 0.226794   ,  0.937047   ])\n",
        "1568    , -179.622    , array([ 0.193594   ,  0.927368   ])\n"
       ]
      },
      {
       "output_type": "stream",
       "stream": "stdout",
       "text": [
        "1570    , -179.615    , array([ 0.193788   ,  0.927368   ])\n",
        "1572    , -177.336    , array([ 0.209572   ,  0.904961   ])\n"
       ]
      },
      {
       "output_type": "stream",
       "stream": "stdout",
       "text": [
        "1574    , -177.334    , array([ 0.209782   ,  0.904961   ])\n",
        "1576    , -173.166    , array([ 0.22487    ,  0.854014   ])\n"
       ]
      },
      {
       "output_type": "stream",
       "stream": "stdout",
       "text": [
        "1578    , -173.163    , array([ 0.225095   ,  0.854014   ])\n",
        "1580    , -166.804    , array([ 0.270443   ,  0.75375    ])\n"
       ]
      },
      {
       "output_type": "stream",
       "stream": "stdout",
       "text": [
        "1582    , -166.839    , array([ 0.270714   ,  0.75375    ])\n",
        "1584    , -156.862    , array([ 0.292573   ,  0.606395   ])\n"
       ]
      },
      {
       "output_type": "stream",
       "stream": "stdout",
       "text": [
        "1586    , -156.929    , array([ 0.292866   ,  0.606395   ])\n",
        "1588    , -141.754    , array([ 0.273288   ,  0.452388   ])\n"
       ]
      },
      {
       "output_type": "stream",
       "stream": "stdout",
       "text": [
        "1590    , -141.782    , array([ 0.273561   ,  0.452388   ])\n",
        "1592    , -140.394    , array([ 0.262254   ,  0.276709   ])\n"
       ]
      },
      {
       "output_type": "stream",
       "stream": "stdout",
       "text": [
        "1594    , -140.556    , array([ 0.262517   ,  0.276709   ])\n",
        "1596    , -136.41     , array([ 0.268353   ,  0.36401    ])\n"
       ]
      },
      {
       "output_type": "stream",
       "stream": "stdout",
       "text": [
        "1598    , -136.479    , array([ 0.268621   ,  0.36401    ])\n",
        "1600    , -129.028    , array([ 0.234339   ,  0.281506   ])\n"
       ]
      },
      {
       "output_type": "stream",
       "stream": "stdout",
       "text": [
        "1602    , -129.06     , array([ 0.234573   ,  0.281506   ])\n",
        "1604    , -126.369    , array([ 0.209649   ,  0.228843   ])\n"
       ]
      },
      {
       "output_type": "stream",
       "stream": "stdout",
       "text": [
        "1606    , -126.394    , array([ 0.209859   ,  0.228843   ])\n",
        "1608    , -125.399    , array([ 0.188507   ,  0.201876   ])\n"
       ]
      },
      {
       "output_type": "stream",
       "stream": "stdout",
       "text": [
        "1610    , -125.389    , array([ 0.188695   ,  0.201876   ])\n",
        "1612    , -125.329    , array([ 0.170825   ,  0.165361   ])\n"
       ]
      },
      {
       "output_type": "stream",
       "stream": "stdout",
       "text": [
        "1614    , -125.351    , array([ 0.170996   ,  0.165361   ])\n",
        "1616    , -125.202    , array([ 0.171995   ,  0.168472   ])\n"
       ]
      },
      {
       "output_type": "stream",
       "stream": "stdout",
       "text": [
        "1618    , -125.218    , array([ 0.172167   ,  0.168472   ])\n",
        "1620    , -125.07     , array([ 0.17207    ,  0.172303   ])\n"
       ]
      },
      {
       "output_type": "stream",
       "stream": "stdout",
       "text": [
        "1622    , -125.071    , array([ 0.172243   ,  0.172303   ])\n",
        "1624    , -125.072    , array([ 0.171165   ,  0.171213   ])\n"
       ]
      },
      {
       "output_type": "stream",
       "stream": "stdout",
       "text": [
        "1626    , -125.072    , array([ 0.171336   ,  0.171213   ])\n",
        "1628    , -125.07     , array([ 0.171948   ,  0.172155   ])\n"
       ]
      },
      {
       "output_type": "stream",
       "stream": "stdout",
       "text": [
        "1630    , -125.071    , array([ 0.17212    ,  0.172155   ])\n",
        "1632    , -125.07     , array([ 0.172052   ,  0.172281   ])\n"
       ]
      },
      {
       "output_type": "stream",
       "stream": "stdout",
       "text": [
        "1634    , -125.071    , array([ 0.172225   ,  0.172281   ])\n",
        "1636    , -125.07     , array([ 0.172068   ,  0.172299   ])\n"
       ]
      },
      {
       "output_type": "stream",
       "stream": "stdout",
       "text": [
        "1638    , -125.071    , array([ 0.17224    ,  0.172299   ])\n",
        "1640    , -125.07     , array([ 0.17207    ,  0.172302   ])\n"
       ]
      },
      {
       "output_type": "stream",
       "stream": "stdout",
       "text": [
        "1642    , -125.071    , array([ 0.172242   ,  0.172302   ])\n",
        "1644    , -125.07     , array([ 0.17207    ,  0.172302   ])\n"
       ]
      },
      {
       "output_type": "stream",
       "stream": "stdout",
       "text": [
        "1646    , -125.071    , array([ 0.172243   ,  0.172302   ])\n",
        "1648    , -125.07     , array([ 0.17207    ,  0.172303   ])\n"
       ]
      },
      {
       "output_type": "stream",
       "stream": "stdout",
       "text": [
        "1650    , -125.071    , array([ 0.172243   ,  0.172303   ])\n",
        "1652    , -125.07     , array([ 0.17207    ,  0.172303   ])\n"
       ]
      },
      {
       "output_type": "stream",
       "stream": "stdout",
       "text": [
        "1654    , -125.071    , array([ 0.172243   ,  0.172303   ])\n",
        "1656    , -125.07     , array([ 0.17207    ,  0.172303   ])\n"
       ]
      },
      {
       "output_type": "stream",
       "stream": "stdout",
       "text": [
        "1658    , -125.071    , array([ 0.172243   ,  0.172303   ])\n",
        "1660    , -125.07     , array([ 0.17207    ,  0.172303   ])\n"
       ]
      },
      {
       "output_type": "stream",
       "stream": "stdout",
       "text": [
        "1662    , -125.071    , array([ 0.172243   ,  0.172303   ])\n",
        "1664    , -125.07     , array([ 0.17207    ,  0.172303   ])\n"
       ]
      },
      {
       "output_type": "stream",
       "stream": "stdout",
       "text": [
        "1666    , -125.071    , array([ 0.172243   ,  0.172303   ])\n",
        "1668    , -125.072    , array([ 0.171165   ,  0.171213   ])\n"
       ]
      },
      {
       "output_type": "stream",
       "stream": "stdout",
       "text": [
        "1670    , -125.07     , array([ 0.171984   ,  0.172198   ])\n",
        "1672    , -125.07     , array([ 0.172061   ,  0.172292   ])\n"
       ]
      },
      {
       "output_type": "stream",
       "stream": "stdout",
       "text": [
        "1674    , -125.07     , array([ 0.17207    ,  0.172301   ])\n",
        "1676    , -125.07     , array([ 0.17207    ,  0.172302   ])\n"
       ]
      },
      {
       "output_type": "stream",
       "stream": "stdout",
       "text": [
        "1678    , -125.07     , array([ 0.17207    ,  0.172303   ])\n",
        "Optimized parameters array([ 0.1720705 ,  0.17230257])\n",
        "Optimized log-likelihood:"
       ]
      },
      {
       "output_type": "stream",
       "stream": "stdout",
       "text": [
        " -125.070243127\n"
       ]
      }
     ],
     "prompt_number": 54
    },
    {
     "cell_type": "code",
     "collapsed": false,
     "input": [
      "pylab.figure(figsize=(9, 9), dpi=300)\n",
      "dadi.Plotting.plot_1d_comp_multinom(c_model, data)\n",
      "pylab.show()"
     ],
     "language": "python",
     "metadata": {},
     "outputs": [
      {
       "metadata": {},
       "output_type": "display_data",
       "png": "[encoded data removed]",
       "text": [
        "<matplotlib.figure.Figure at 0x10754b2d0>"
       ]
      }
     ],
     "prompt_number": 55
    },
    {
     "cell_type": "markdown",
     "metadata": {},
     "source": [
      "### 1B. Morocco 1D"
     ]
    },
    {
     "cell_type": "code",
     "collapsed": false,
     "input": [
      "cadata = dadi.Spectrum.from_file('../data/matrix_dadi_canarianSubset.transp.genodadiSpectrum.txt')\n",
      "data = cadata.marginalize([0,2])\n",
      "data = data.fold()\n",
      "dadi.Plotting.plot_1d_fs(data, fig_num=1)"
     ],
     "language": "python",
     "metadata": {},
     "outputs": [
      {
       "metadata": {},
       "output_type": "display_data",
       "png": "[encoded data removed]",
       "text": [
        "<matplotlib.figure.Figure at 0x107186990>"
       ]
      }
     ],
     "prompt_number": 32
    },
    {
     "cell_type": "code",
     "collapsed": false,
     "input": [
      "ns = data.sample_sizes\n",
      "pts_l = [40, 50, 60]\n",
      "params = array([1.5, 1.3])\n",
      "upper_bound = [50, 10]\n",
      "lower_bound = [1e-3, 1e-5]\n",
      "\n",
      "func = oneD_models.growth\n",
      "func_ex = dadi.Numerics.make_extrap_log_func(func)"
     ],
     "language": "python",
     "metadata": {},
     "outputs": [],
     "prompt_number": 33
    },
    {
     "cell_type": "code",
     "collapsed": false,
     "input": [
      "m_model = func_ex(params, ns, pts_l)\n",
      "ll_m_model = dadi.Inference.ll_multinom(m_model, data)\n",
      "print 'Model log-likelihood:', ll_m_model\n",
      "theta = dadi.Inference.optimal_sfs_scaling(m_model, data)"
     ],
     "language": "python",
     "metadata": {},
     "outputs": [
      {
       "output_type": "stream",
       "stream": "stdout",
       "text": [
        "Model log-likelihood: -16943.0794374\n"
       ]
      }
     ],
     "prompt_number": 34
    },
    {
     "cell_type": "code",
     "collapsed": false,
     "input": [
      "p0 = dadi.Misc.perturb_params(params, fold=1, upper_bound=upper_bound)\n",
      "popt = dadi.Inference.optimize_log(p0, data, func_ex, pts_l,\n",
      "                                   lower_bound=lower_bound,\n",
      "                                   upper_bound=upper_bound,\n",
      "                                   verbose=len(params),\n",
      "                                   maxiter=50)\n",
      "print 'Optimized parameters', repr(popt)\n",
      "m_model = func_ex(popt, ns, pts_l)\n",
      "ll_opt = dadi.Inference.ll_multinom(m_model, data)\n",
      "print 'Optimized log-likelihood:', ll_opt"
     ],
     "language": "python",
     "metadata": {},
     "outputs": [
      {
       "output_type": "stream",
       "stream": "stdout",
       "text": [
        "2214    , -10083.8    , array([ 2.35315    ,  0.877789   ])\n"
       ]
      },
      {
       "output_type": "stream",
       "stream": "stdout",
       "text": [
        "2216    , -10084      , array([ 2.35315    ,  0.878667   ])\n",
        "2230    , -9264.27    , array([ 2.51905    ,  0.876536   ])\n"
       ]
      },
      {
       "output_type": "stream",
       "stream": "stdout",
       "text": [
        "2232    , -9252.55    , array([ 2.52157    ,  0.876536   ])\n",
        "2234    , -3717.37    , array([ 4.66921    ,  0.865266   ])\n"
       ]
      },
      {
       "output_type": "stream",
       "stream": "stdout",
       "text": [
        "2236    , -3710.97    , array([ 4.67388    ,  0.865266   ])\n",
        "2242    , -3717.1     , array([ 4.66932    ,  0.865368   ])\n"
       ]
      },
      {
       "output_type": "stream",
       "stream": "stdout",
       "text": [
        "2244    , -3710.7     , array([ 4.674      ,  0.865368   ])\n",
        "2246    , -3716.83    , array([ 4.66944    ,  0.86547    ])\n"
       ]
      },
      {
       "output_type": "stream",
       "stream": "stdout",
       "text": [
        "2248    , -3710.43    , array([ 4.67411    ,  0.86547    ])\n",
        "2254    , -3716.76    , array([ 4.66947    ,  0.865496   ])\n"
       ]
      },
      {
       "output_type": "stream",
       "stream": "stdout",
       "text": [
        "2256    , -3710.36    , array([ 4.67414    ,  0.865496   ])\n",
        "2258    , -3716.69    , array([ 4.6695     ,  0.865521   ])\n"
       ]
      },
      {
       "output_type": "stream",
       "stream": "stdout",
       "text": [
        "2260    , -3710.29    , array([ 4.67417    ,  0.865521   ])\n",
        "2262    , -3806.21    , array([ 6.24287    ,  3.4218     ])\n"
       ]
      },
      {
       "output_type": "stream",
       "stream": "stdout",
       "text": [
        "2264    , -3798.41    , array([ 6.24912    ,  3.4218     ])\n",
        "2266    , -2931.37    , array([ 5.36676    ,  1.67258    ])\n"
       ]
      },
      {
       "output_type": "stream",
       "stream": "stdout",
       "text": [
        "2268    , -2924.73    , array([ 5.37213    ,  1.67258    ])\n",
        "2270    , -1593.4     , array([ 6.84214    ,  1.70107    ])\n"
       ]
      },
      {
       "output_type": "stream",
       "stream": "stdout",
       "text": [
        "2272    , -1588.88    , array([ 6.84899    ,  1.70107    ])\n",
        "2274    , -191.519    , array([ 13.0753    ,  2.42643    ])\n"
       ]
      },
      {
       "output_type": "stream",
       "stream": "stdout",
       "text": [
        "2276    , -191.133    , array([ 13.0884    ,  2.42643    ])\n",
        "2278    , -173.94     , array([ 14.0043    ,  2.55451    ])\n"
       ]
      },
      {
       "output_type": "stream",
       "stream": "stdout",
       "text": [
        "2280    , -173.919    , array([ 14.0183    ,  2.55451    ])\n",
        "2282    , -164.107    , array([ 15.0457    ,  2.83153    ])\n"
       ]
      },
      {
       "output_type": "stream",
       "stream": "stdout",
       "text": [
        "2284    , -164.331    , array([ 15.0608    ,  2.83153    ])\n",
        "2286    , -151.799    , array([ 16.2035    ,  3.31627    ])\n"
       ]
      },
      {
       "output_type": "stream",
       "stream": "stdout",
       "text": [
        "2288    , -151.989    , array([ 16.2197    ,  3.31627    ])\n",
        "2290    , -148.66     , array([ 16.1552    ,  3.38916    ])\n"
       ]
      },
      {
       "output_type": "stream",
       "stream": "stdout",
       "text": [
        "2292    , -148.762    , array([ 16.1713    ,  3.38916    ])\n",
        "2294    , -152.771    , array([ 15.9633    ,  3.6971     ])\n"
       ]
      },
      {
       "output_type": "stream",
       "stream": "stdout",
       "text": [
        "2296    , -152.394    , array([ 15.9792    ,  3.6971     ])\n",
        "2298    , -146.948    , array([ 16.0826    ,  3.50205    ])\n"
       ]
      },
      {
       "output_type": "stream",
       "stream": "stdout",
       "text": [
        "2300    , -146.872    , array([ 16.0987    ,  3.50205    ])\n",
        "2302    , -145.61     , array([ 16.6479    ,  3.8464     ])\n"
       ]
      },
      {
       "output_type": "stream",
       "stream": "stdout",
       "text": [
        "2304    , -145.411    , array([ 16.6646    ,  3.8464     ])\n",
        "2306    , -143.267    , array([ 17.1214    ,  3.99482    ])\n"
       ]
      },
      {
       "output_type": "stream",
       "stream": "stdout",
       "text": [
        "2308    , -143.116    , array([ 17.1385    ,  3.99482    ])\n",
        "2310    , -139.853    , array([ 18.2866    ,  4.37696    ])\n"
       ]
      },
      {
       "output_type": "stream",
       "stream": "stdout",
       "text": [
        "2312    , -139.802    , array([ 18.3049    ,  4.37696    ])\n",
        "2314    , -138.767    , array([ 18.9945    ,  4.62231    ])\n"
       ]
      },
      {
       "output_type": "stream",
       "stream": "stdout",
       "text": [
        "2316    , -138.758    , array([ 19.0135    ,  4.62231    ])\n",
        "2318    , -137.803    , array([ 19.9438    ,  5.00689    ])\n"
       ]
      },
      {
       "output_type": "stream",
       "stream": "stdout",
       "text": [
        "2320    , -137.782    , array([ 19.9637    ,  5.00689    ])\n",
        "2322    , -138.068    , array([ 24.2398    ,  6.89298    ])\n"
       ]
      },
      {
       "output_type": "stream",
       "stream": "stdout",
       "text": [
        "2324    , -137.904    , array([ 24.264     ,  6.89298    ])\n",
        "2326    , -137.01     , array([ 22.0888    ,  5.91931    ])\n"
       ]
      },
      {
       "output_type": "stream",
       "stream": "stdout",
       "text": [
        "2328    , -136.936    , array([ 22.1109    ,  5.91931    ])\n",
        "2330    , -137.286    , array([ 20.769     ,  5.35085    ])\n"
       ]
      },
      {
       "output_type": "stream",
       "stream": "stdout",
       "text": [
        "2332    , -137.251    , array([ 20.7898    ,  5.35085    ])\n",
        "2334    , -137.215    , array([ 20.8079    ,  5.32963    ])\n"
       ]
      },
      {
       "output_type": "stream",
       "stream": "stdout",
       "text": [
        "2336    , -137.215    , array([ 20.8287    ,  5.32963    ])\n",
        "2338    , -137.597    , array([ 20.2994    ,  5.1051     ])\n"
       ]
      },
      {
       "output_type": "stream",
       "stream": "stdout",
       "text": [
        "2340    , -137.619    , array([ 20.3197    ,  5.1051     ])\n",
        "2342    , -137.232    , array([ 20.7923    ,  5.32269    ])\n"
       ]
      },
      {
       "output_type": "stream",
       "stream": "stdout",
       "text": [
        "2344    , -137.229    , array([ 20.8131    ,  5.32269    ])\n",
        "2346    , -137.215    , array([ 20.8074    ,  5.3294     ])\n"
       ]
      },
      {
       "output_type": "stream",
       "stream": "stdout",
       "text": [
        "2348    , -137.215    , array([ 20.8282    ,  5.3294     ])\n",
        "2350    , -137.215    , array([ 20.8079    ,  5.32963    ])\n"
       ]
      },
      {
       "output_type": "stream",
       "stream": "stdout",
       "text": [
        "2352    , -137.215    , array([ 20.8287    ,  5.32963    ])\n",
        "2354    , -137.215    , array([ 20.8079    ,  5.32963    ])\n"
       ]
      },
      {
       "output_type": "stream",
       "stream": "stdout",
       "text": [
        "2356    , -137.215    , array([ 20.8287    ,  5.32963    ])\n",
        "2358    , -137.215    , array([ 20.8079    ,  5.32963    ])\n"
       ]
      },
      {
       "output_type": "stream",
       "stream": "stdout",
       "text": [
        "2360    , -137.215    , array([ 20.8287    ,  5.32963    ])\n",
        "2362    , -137.215    , array([ 20.8079    ,  5.32963    ])\n"
       ]
      },
      {
       "output_type": "stream",
       "stream": "stdout",
       "text": [
        "2364    , -137.215    , array([ 20.8287    ,  5.32963    ])\n",
        "2366    , -137.597    , array([ 20.2994    ,  5.1051     ])\n"
       ]
      },
      {
       "output_type": "stream",
       "stream": "stdout",
       "text": [
        "2368    , -137.298    , array([ 20.6796    ,  5.27259    ])\n",
        "2370    , -137.221    , array([ 20.8012    ,  5.32666    ])\n"
       ]
      },
      {
       "output_type": "stream",
       "stream": "stdout",
       "text": [
        "2372    , -137.216    , array([ 20.8062    ,  5.32889    ])\n",
        "2374    , -137.215    , array([ 20.8075    ,  5.32945    ])\n"
       ]
      },
      {
       "output_type": "stream",
       "stream": "stdout",
       "text": [
        "2376    , -137.215    , array([ 20.8078    ,  5.32959    ])\n",
        "Optimized parameters"
       ]
      },
      {
       "output_type": "stream",
       "stream": "stdout",
       "text": [
        " array([ 20.80790016,   5.32963347])\n",
        "Optimized log-likelihood:"
       ]
      },
      {
       "output_type": "stream",
       "stream": "stdout",
       "text": [
        " -137.21457913\n"
       ]
      }
     ],
     "prompt_number": 35
    },
    {
     "cell_type": "code",
     "collapsed": false,
     "input": [
      "pylab.figure(figsize=(9, 9), dpi=300)\n",
      "dadi.Plotting.plot_1d_comp_multinom(m_model, data)\n",
      "pylab.show()"
     ],
     "language": "python",
     "metadata": {},
     "outputs": [
      {
       "metadata": {},
       "output_type": "display_data",
       "png": "[encoded data removed]",
       "text": [
        "<matplotlib.figure.Figure at 0x10763b050>"
       ]
      }
     ],
     "prompt_number": 36
    },
    {
     "cell_type": "markdown",
     "metadata": {},
     "source": [
      "### 1C. Iberia 1D\n"
     ]
    },
    {
     "cell_type": "code",
     "collapsed": false,
     "input": [
      "cadata = dadi.Spectrum.from_file('../data/matrix_dadi_canarianSubset.transp.genodadiSpectrum.txt')\n",
      "data = cadata.marginalize([0,1])\n",
      "\n",
      "data = data.fold()\n",
      "dadi.Plotting.plot_1d_fs(data, fig_num=1)"
     ],
     "language": "python",
     "metadata": {},
     "outputs": [
      {
       "metadata": {},
       "output_type": "display_data",
       "png": "[encoded data removed]",
       "text": [
        "<matplotlib.figure.Figure at 0x108367810>"
       ]
      }
     ],
     "prompt_number": 27
    },
    {
     "cell_type": "code",
     "collapsed": false,
     "input": [
      "ns = data.sample_sizes\n",
      "pts_l = [40, 50, 60]\n",
      "params = array([1.5, 1.3])\n",
      "upper_bound = [50, 10]\n",
      "lower_bound = [1e-3, 1e-5]\n",
      "\n",
      "func = oneD_models.growth\n",
      "func_ex = dadi.Numerics.make_extrap_log_func(func)"
     ],
     "language": "python",
     "metadata": {},
     "outputs": [],
     "prompt_number": 28
    },
    {
     "cell_type": "code",
     "collapsed": false,
     "input": [
      "i_model = func_ex(params, ns, pts_l)\n",
      "ll_m_model = dadi.Inference.ll_multinom(i_model, data)\n",
      "print 'Model log-likelihood:', ll_m_model\n",
      "theta = dadi.Inference.optimal_sfs_scaling(i_model, data)"
     ],
     "language": "python",
     "metadata": {},
     "outputs": [
      {
       "output_type": "stream",
       "stream": "stdout",
       "text": [
        "Model log-likelihood: -2624.59612177\n"
       ]
      }
     ],
     "prompt_number": 29
    },
    {
     "cell_type": "code",
     "collapsed": false,
     "input": [
      "p0 = dadi.Misc.perturb_params(params, fold=1, upper_bound=upper_bound)\n",
      "popt = dadi.Inference.optimize_log(p0, data, func_ex, pts_l,\n",
      "                                   lower_bound=lower_bound,\n",
      "                                   upper_bound=upper_bound,\n",
      "                                   verbose=len(params),\n",
      "                                   maxiter=50)\n",
      "print 'Optimized parameters', repr(popt)\n",
      "i_model = func_ex(popt, ns, pts_l)\n",
      "ll_opt = dadi.Inference.ll_multinom(i_model, data)\n",
      "print 'Optimized log-likelihood:', ll_opt"
     ],
     "language": "python",
     "metadata": {},
     "outputs": [
      {
       "output_type": "stream",
       "stream": "stdout",
       "text": [
        "1890    , -1336.82    , array([ 2.33691    ,  1.43877    ])\n"
       ]
      },
      {
       "output_type": "stream",
       "stream": "stdout",
       "text": [
        "1892    , -1337.26    , array([ 2.33691    ,  1.44021    ])\n",
        "1902    , -1334.31    , array([ 2.33952    ,  1.43845    ])\n"
       ]
      },
      {
       "output_type": "stream",
       "stream": "stdout",
       "text": [
        "1904    , -1332.15    , array([ 2.34186    ,  1.43845    ])\n",
        "1906    , -1298.56    , array([ 2.37754    ,  1.43378    ])\n"
       ]
      },
      {
       "output_type": "stream",
       "stream": "stdout",
       "text": [
        "1908    , -1296.46    , array([ 2.37992    ,  1.43378    ])\n",
        "1914    , -1297.97    , array([ 2.37818    ,  1.4337     ])\n"
       ]
      },
      {
       "output_type": "stream",
       "stream": "stdout",
       "text": [
        "1916    , -1295.88    , array([ 2.38056    ,  1.4337     ])\n",
        "1918    , -1290.52    , array([ 2.38634    ,  1.43271    ])\n"
       ]
      },
      {
       "output_type": "stream",
       "stream": "stdout",
       "text": [
        "1920    , -1288.45    , array([ 2.38873    ,  1.43271    ])\n",
        "1926    , -1290.38    , array([ 2.3865     ,  1.43269    ])\n"
       ]
      },
      {
       "output_type": "stream",
       "stream": "stdout",
       "text": [
        "1928    , -1288.3     , array([ 2.38889    ,  1.43269    ])\n",
        "1930    , -1288.55    , array([ 2.38852    ,  1.43245    ])\n"
       ]
      },
      {
       "output_type": "stream",
       "stream": "stdout",
       "text": [
        "1932    , -1286.48    , array([ 2.39091    ,  1.43245    ])\n",
        "1934    , -4337.73    , array([ 20.5       ,  0.928597   ])\n"
       ]
      },
      {
       "output_type": "stream",
       "stream": "stdout",
       "text": [
        "1936    , -4340.94    , array([ 20.5205    ,  0.928597   ])\n",
        "1938    , -792.902    , array([ 3.65647    ,  1.31459    ])\n"
       ]
      },
      {
       "output_type": "stream",
       "stream": "stdout",
       "text": [
        "1940    , -792.772    , array([ 3.66013    ,  1.31459    ])\n",
        "1942    , -4334.47    , array([ 1.22754    ,  0.000469409])\n"
       ]
      },
      {
       "output_type": "stream",
       "stream": "stdout",
       "text": [
        "1944    , -4334.44    , array([ 1.22877    ,  0.000469409])\n",
        "1946    , -744.418    , array([ 3.48081    ,  0.918959   ])\n"
       ]
      },
      {
       "output_type": "stream",
       "stream": "stdout",
       "text": [
        "1948    , -744.07     , array([ 3.48429    ,  0.918959   ])\n",
        "1950    , -765.669    , array([ 3.35142    ,  0.447755   ])\n"
       ]
      },
      {
       "output_type": "stream",
       "stream": "stdout",
       "text": [
        "1952    , -764.717    , array([ 3.35477    ,  0.447755   ])\n",
        "1954    , -715.277    , array([ 3.4216     ,  0.663564   ])\n",
        "1956    , -714.675    , array([ 3.42503    ,  0.663564   ])\n"
       ]
      },
      {
       "output_type": "stream",
       "stream": "stdout",
       "text": [
        "1958    , -677.787    , array([ 3.65525    ,  0.501311   ])\n",
        "1960    , -677.161    , array([ 3.65891    ,  0.501311   ])\n",
        "1962    , -614.686    , array([ 4.17693    ,  0.463419   ])\n"
       ]
      },
      {
       "output_type": "stream",
       "stream": "stdout",
       "text": [
        "1964    , -614.3      , array([ 4.18111    ,  0.463419   ])\n",
        "1966    , -538.398    , array([ 5.89257    ,  0.307128   ])\n",
        "1968    , -538.132    , array([ 5.89847    ,  0.307128   ])\n"
       ]
      },
      {
       "output_type": "stream",
       "stream": "stdout",
       "text": [
        "1970    , -510.548    , array([ 6.86919    ,  0.31575    ])\n",
        "1972    , -510.483    , array([ 6.87606    ,  0.31575    ])\n",
        "1974    , -486.275    , array([ 8.8784     ,  0.264718   ])\n"
       ]
      },
      {
       "output_type": "stream",
       "stream": "stdout",
       "text": [
        "1976    , -486.221    , array([ 8.88728    ,  0.264718   ])\n",
        "1978    , -472.645    , array([ 11.8786    ,  0.223758   ])\n",
        "1980    , -472.584    , array([ 11.8905    ,  0.223758   ])\n"
       ]
      },
      {
       "output_type": "stream",
       "stream": "stdout",
       "text": [
        "1982    , -469.066    , array([ 12.669     ,  0.225955   ])\n",
        "1984    , -469.036    , array([ 12.6817    ,  0.225955   ])\n",
        "1986    , -462.75     , array([ 16.5761    ,  0.211092   ])\n"
       ]
      },
      {
       "output_type": "stream",
       "stream": "stdout",
       "text": [
        "1988    , -462.752    , array([ 16.5927    ,  0.211092   ])\n",
        "1990    , -457.526    , array([ 27.7916    ,  0.178323   ])\n",
        "1992    , -457.506    , array([ 27.8194    ,  0.178323   ])\n"
       ]
      },
      {
       "output_type": "stream",
       "stream": "stdout",
       "text": [
        "1994    , -456.918    , array([ 28.3718    ,  0.179095   ])\n",
        "1996    , -456.903    , array([ 28.4002    ,  0.179095   ])\n",
        "1998    , -456.08     , array([ 33.1259    ,  0.17483    ])\n"
       ]
      },
      {
       "output_type": "stream",
       "stream": "stdout",
       "text": [
        "2000    , -456.073    , array([ 33.1591    ,  0.17483    ])\n",
        "2002    , -455.947    , array([ 33.7211    ,  0.176628   ])\n",
        "2004    , -455.948    , array([ 33.7548    ,  0.176628   ])\n"
       ]
      },
      {
       "output_type": "stream",
       "stream": "stdout",
       "text": [
        "2006    , -455.84     , array([ 35.23      ,  0.174687   ])\n",
        "2008    , -455.839    , array([ 35.2652    ,  0.174687   ])\n",
        "2010    , -455.569    , array([ 38.748     ,  0.171415   ])\n"
       ]
      },
      {
       "output_type": "stream",
       "stream": "stdout",
       "text": [
        "2012    , -455.57     , array([ 38.7867    ,  0.171415   ])\n",
        "2014    , -455.812    , array([ 48.8303    ,  0.16301    ])\n",
        "2016    , -455.807    , array([ 48.8792    ,  0.16301    ])\n"
       ]
      },
      {
       "output_type": "stream",
       "stream": "stdout",
       "text": [
        "2018    , -455.644    , array([ 42.3797    ,  0.168109   ])\n",
        "2020    , -455.64     , array([ 42.4221    ,  0.168109   ])\n",
        "2022    , -455.557    , array([ 39.5212    ,  0.17068    ])\n"
       ]
      },
      {
       "output_type": "stream",
       "stream": "stdout",
       "text": [
        "2024    , -455.557    , array([ 39.5608    ,  0.17068    ])\n",
        "2026    , -455.558    , array([ 39.9597    ,  0.170347   ])\n",
        "2028    , -455.558    , array([ 39.9997    ,  0.170347   ])\n"
       ]
      },
      {
       "output_type": "stream",
       "stream": "stdout",
       "text": [
        "2030    , -455.557    , array([ 39.6103    ,  0.170612   ])\n",
        "2032    , -455.557    , array([ 39.6499    ,  0.170612   ])\n",
        "2034    , -455.557    , array([ 39.6158    ,  0.170609   ])\n"
       ]
      },
      {
       "output_type": "stream",
       "stream": "stdout",
       "text": [
        "2036    , -455.557    , array([ 39.6554    ,  0.170609   ])\n",
        "2038    , -455.557    , array([ 39.6377    ,  0.170594   ])\n",
        "2040    , -455.557    , array([ 39.6774    ,  0.170594   ])\n"
       ]
      },
      {
       "output_type": "stream",
       "stream": "stdout",
       "text": [
        "2042    , -455.557    , array([ 39.7257    ,  0.170534   ])\n",
        "2044    , -455.557    , array([ 39.7654    ,  0.170534   ])\n",
        "2046    , -455.558    , array([ 40.0795    ,  0.170296   ])\n"
       ]
      },
      {
       "output_type": "stream",
       "stream": "stdout",
       "text": [
        "2048    , -455.557    , array([ 40.1196    ,  0.170296   ])\n",
        "2050    , -455.557    , array([ 39.7936    ,  0.170488   ])\n",
        "2052    , -455.557    , array([ 39.8334    ,  0.170488   ])\n"
       ]
      },
      {
       "output_type": "stream",
       "stream": "stdout",
       "text": [
        "2054    , -455.557    , array([ 39.7394    ,  0.170525   ])\n",
        "2056    , -455.557    , array([ 39.7792    ,  0.170525   ])\n",
        "2058    , -455.557    , array([ 39.7446    ,  0.170522   ])\n"
       ]
      },
      {
       "output_type": "stream",
       "stream": "stdout",
       "text": [
        "2060    , -455.557    , array([ 39.7843    ,  0.170522   ])\n",
        "2062    , -455.557    , array([ 39.7651    ,  0.170509   ])\n",
        "2064    , -455.557    , array([ 39.8049    ,  0.170509   ])\n"
       ]
      },
      {
       "output_type": "stream",
       "stream": "stdout",
       "text": [
        "2066    , -455.557    , array([ 39.8475    ,  0.170457   ])\n",
        "2068    , -455.557    , array([ 39.8873    ,  0.170457   ])\n",
        "2070    , -455.557    , array([ 40.1786    ,  0.170252   ])\n"
       ]
      },
      {
       "output_type": "stream",
       "stream": "stdout",
       "text": [
        "2072    , -455.557    , array([ 40.2188    ,  0.170252   ])\n",
        "2074    , -455.557    , array([ 39.9163    ,  0.170415   ])\n",
        "2076    , -455.557    , array([ 39.9562    ,  0.170415   ])\n"
       ]
      },
      {
       "output_type": "stream",
       "stream": "stdout",
       "text": [
        "2078    , -455.557    , array([ 39.8622    ,  0.170448   ])\n",
        "2080    , -455.557    , array([ 39.9021    ,  0.170448   ])\n",
        "2082    , -455.557    , array([ 39.8979    ,  0.170426   ])\n"
       ]
      },
      {
       "output_type": "stream",
       "stream": "stdout",
       "text": [
        "2084    , -455.557    , array([ 39.9378    ,  0.170426   ])\n",
        "2086    , -455.557    , array([ 39.8698    ,  0.170444   ])\n",
        "2088    , -455.557    , array([ 39.9097    ,  0.170444   ])\n"
       ]
      },
      {
       "output_type": "stream",
       "stream": "stdout",
       "text": [
        "2090    , -455.557    , array([ 39.8883    ,  0.170432   ])\n",
        "2092    , -455.557    , array([ 39.9282    ,  0.170432   ])\n",
        "2094    , -455.557    , array([ 39.8737    ,  0.170441   ])\n"
       ]
      },
      {
       "output_type": "stream",
       "stream": "stdout",
       "text": [
        "2096    , -455.557    , array([ 39.9136    ,  0.170441   ])\n",
        "2098    , -455.557    , array([ 39.8834    ,  0.170435   ])\n",
        "2100    , -455.557    , array([ 39.9233    ,  0.170435   ])\n"
       ]
      },
      {
       "output_type": "stream",
       "stream": "stdout",
       "text": [
        "2102    , -455.557    , array([ 39.8758    ,  0.17044    ])\n",
        "2104    , -455.557    , array([ 39.9156    ,  0.17044    ])\n",
        "2106    , -455.557    , array([ 39.8808    ,  0.170437   ])\n"
       ]
      },
      {
       "output_type": "stream",
       "stream": "stdout",
       "text": [
        "2108    , -455.557    , array([ 39.9207    ,  0.170437   ])\n",
        "2110    , -455.557    , array([ 39.8768    ,  0.170439   ])\n",
        "2112    , -455.557    , array([ 39.9167    ,  0.170439   ])\n"
       ]
      },
      {
       "output_type": "stream",
       "stream": "stdout",
       "text": [
        "2114    , -455.557    , array([ 39.8794    ,  0.170438   ])\n",
        "2116    , -455.557    , array([ 39.9193    ,  0.170438   ])\n",
        "2118    , -455.557    , array([ 39.8803    ,  0.170437   ])\n"
       ]
      },
      {
       "output_type": "stream",
       "stream": "stdout",
       "text": [
        "2120    , -455.557    , array([ 39.9202    ,  0.170437   ])\n",
        "2122    , -455.557    , array([ 39.8796    ,  0.170437   ])\n",
        "2124    , -455.557    , array([ 39.9195    ,  0.170437   ])\n"
       ]
      },
      {
       "output_type": "stream",
       "stream": "stdout",
       "text": [
        "2126    , -455.557    , array([ 39.8795    ,  0.170438   ])\n",
        "2128    , -455.557    , array([ 39.9194    ,  0.170438   ])\n",
        "2130    , -455.557    , array([ 39.8794    ,  0.170438   ])\n"
       ]
      },
      {
       "output_type": "stream",
       "stream": "stdout",
       "text": [
        "2132    , -455.557    , array([ 39.9193    ,  0.170438   ])\n",
        "2134    , -455.557    , array([ 39.8795    ,  0.170438   ])\n",
        "2136    , -455.557    , array([ 39.9194    ,  0.170438   ])\n"
       ]
      },
      {
       "output_type": "stream",
       "stream": "stdout",
       "text": [
        "2138    , -455.557    , array([ 39.8794    ,  0.170438   ])\n",
        "2140    , -455.557    , array([ 39.9193    ,  0.170438   ])\n",
        "2142    , -455.557    , array([ 39.8794    ,  0.170438   ])\n"
       ]
      },
      {
       "output_type": "stream",
       "stream": "stdout",
       "text": [
        "2144    , -455.557    , array([ 39.9193    ,  0.170438   ])\n",
        "2146    , -455.557    , array([ 39.8794    ,  0.170438   ])\n",
        "2148    , -455.557    , array([ 39.9193    ,  0.170438   ])\n"
       ]
      },
      {
       "output_type": "stream",
       "stream": "stdout",
       "text": [
        "2150    , -455.557    , array([ 39.8794    ,  0.170438   ])\n",
        "2152    , -455.557    , array([ 39.9193    ,  0.170438   ])\n",
        "2154    , -455.557    , array([ 39.8794    ,  0.170438   ])\n"
       ]
      },
      {
       "output_type": "stream",
       "stream": "stdout",
       "text": [
        "2156    , -455.557    , array([ 39.9193    ,  0.170438   ])\n",
        "2158    , -455.557    , array([ 39.8794    ,  0.170438   ])\n",
        "2160    , -455.557    , array([ 39.9193    ,  0.170438   ])\n"
       ]
      },
      {
       "output_type": "stream",
       "stream": "stdout",
       "text": [
        "2162    , -455.557    , array([ 39.8794    ,  0.170438   ])\n",
        "2164    , -455.557    , array([ 39.9193    ,  0.170438   ])\n",
        "2166    , -455.557    , array([ 39.8794    ,  0.170438   ])\n"
       ]
      },
      {
       "output_type": "stream",
       "stream": "stdout",
       "text": [
        "2168    , -455.557    , array([ 39.9193    ,  0.170438   ])\n",
        "2170    , -455.557    , array([ 39.8794    ,  0.170438   ])\n",
        "2172    , -455.557    , array([ 39.9193    ,  0.170438   ])\n"
       ]
      },
      {
       "output_type": "stream",
       "stream": "stdout",
       "text": [
        "2174    , -455.557    , array([ 39.8794    ,  0.170438   ])\n",
        "2176    , -455.557    , array([ 39.9193    ,  0.170438   ])\n",
        "2178    , -455.557    , array([ 39.7446    ,  0.170522   ])\n"
       ]
      },
      {
       "output_type": "stream",
       "stream": "stdout",
       "text": [
        "2180    , -455.557    , array([ 39.7843    ,  0.170522   ])\n",
        "2182    , -455.557    , array([ 39.7497    ,  0.170518   ])\n",
        "2184    , -455.557    , array([ 39.7895    ,  0.170518   ])\n"
       ]
      },
      {
       "output_type": "stream",
       "stream": "stdout",
       "text": [
        "2186    , -455.557    , array([ 39.76      ,  0.170512   ])\n",
        "2188    , -455.557    , array([ 39.7998    ,  0.170512   ])\n",
        "2190    , -455.557    , array([ 39.7806    ,  0.170499   ])\n"
       ]
      },
      {
       "output_type": "stream",
       "stream": "stdout",
       "text": [
        "2192    , -455.557    , array([ 39.8204    ,  0.170499   ])\n",
        "2194    , -455.557    , array([ 39.8217    ,  0.170473   ])\n",
        "2196    , -455.557    , array([ 39.8616    ,  0.170473   ])\n"
       ]
      },
      {
       "output_type": "stream",
       "stream": "stdout",
       "text": [
        "2198    , -455.557    , array([ 39.9042    ,  0.170422   ])\n",
        "2200    , -455.557    , array([ 39.9441    ,  0.170422   ])\n",
        "2202    , -455.557    , array([ 40.0697    ,  0.17032    ])\n"
       ]
      },
      {
       "output_type": "stream",
       "stream": "stdout",
       "text": [
        "2204    , -455.557    , array([ 39.9368    ,  0.170402   ])\n",
        "2206    , -455.557    , array([ 39.9102    ,  0.170418   ])\n",
        "2208    , -455.557    , array([ 39.9053    ,  0.170421   ])\n"
       ]
      },
      {
       "output_type": "stream",
       "stream": "stdout",
       "text": [
        "2210    , -455.557    , array([ 39.9044    ,  0.170422   ])\n",
        "2212    , -455.557    , array([ 39.9042    ,  0.170422   ])\n",
        "Optimized parameters array([ 39.73941734,   0.17052481])\n",
        "Optimized log-likelihood:"
       ]
      },
      {
       "output_type": "stream",
       "stream": "stdout",
       "text": [
        " -455.557391348\n"
       ]
      }
     ],
     "prompt_number": 30
    },
    {
     "cell_type": "code",
     "collapsed": false,
     "input": [
      "pylab.figure(figsize=(9, 9), dpi=300)\n",
      "dadi.Plotting.plot_1d_comp_multinom(i_model, data)\n",
      "pylab.show()"
     ],
     "language": "python",
     "metadata": {},
     "outputs": [
      {
       "metadata": {},
       "output_type": "display_data",
       "png": "[encoded data removed]",
       "text": [
        "<matplotlib.figure.Figure at 0x1089d68d0>"
       ]
      }
     ],
     "prompt_number": 31
    }
   ],
   "metadata": {}
  }
 ]
}