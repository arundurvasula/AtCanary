{
 "metadata": {
  "name": "",
  "signature": "sha256:18a4b9b3e7a94623e0644f066186929d491795267f0d8cf8749ee8793157653f"
 },
 "nbformat": 3,
 "nbformat_minor": 0,
 "worksheets": [
  {
   "cells": [
    {
     "cell_type": "markdown",
     "metadata": {},
     "source": [
      "This IPython notebook will try to fit 1D models to each of the 3 populations."
     ]
    },
    {
     "cell_type": "code",
     "collapsed": false,
     "input": [
      "%matplotlib inline\n",
      "import dadi\n",
      "import numpy\n",
      "import pylab\n",
      "import oneD_models\n",
      "\n",
      "from numpy import array\n"
     ],
     "language": "python",
     "metadata": {},
     "outputs": [],
     "prompt_number": 2
    },
    {
     "cell_type": "markdown",
     "metadata": {},
     "source": [
      "#1. Use Canary subset (no structure) to fit 1D models.\n",
      "\n",
      "0 = Canaries\n",
      "\n",
      "1 = Morocco\n",
      "\n",
      "2 = Iberia"
     ]
    },
    {
     "cell_type": "code",
     "collapsed": false,
     "input": [
      "cadata = dadi.Spectrum.from_file('../data/matrix_dadi_canarianSubset.transp.genodadiSpectrum.txt')"
     ],
     "language": "python",
     "metadata": {},
     "outputs": [],
     "prompt_number": 3
    },
    {
     "cell_type": "markdown",
     "metadata": {},
     "source": [
      "### 1A. Canaries 1D\n"
     ]
    },
    {
     "cell_type": "code",
     "collapsed": false,
     "input": [
      "cadata = dadi.Spectrum.from_file('../data/matrix_dadi_canarianSubset.transp.genodadiSpectrum.txt')\n",
      "data = cadata.marginalize([1,2])\n",
      "dadi.Plotting.plot_1d_fs(data, fig_num=1)"
     ],
     "language": "python",
     "metadata": {},
     "outputs": [
      {
       "metadata": {},
       "output_type": "display_data",
       "png": "[encoded data removed]",
       "text": [
        "<matplotlib.figure.Figure at 0x107241d10>"
       ]
      }
     ],
     "prompt_number": 9
    },
    {
     "cell_type": "markdown",
     "metadata": {},
     "source": [
      "Canaries 1D:\n",
      "\n",
      "- bottleneck((nuB, nuF, TB, TF), ns, pts)"
     ]
    },
    {
     "cell_type": "code",
     "collapsed": false,
     "input": [
      "ns = data.sample_sizes\n",
      "pts_l = [40, 50, 60]\n",
      "# params = array([0.2, 1.3, 0.4, 1.4])\n",
      "# upper_bound = [20, 10, 15, 15]\n",
      "# lower_bound = [1e-3, 1e-3, 1e-4, 1e-4]\n",
      "params = array([5e-3, 3.65816852e+00, 1.43577503e+00, 10])\n",
      "upper_bound = [5, 10, 15, 100]\n",
      "lower_bound = [1e-6, 1e-3, 1e-4, 1e-2]\n",
      "\n",
      "func = oneD_models.bottleneck\n",
      "func_ex = dadi.Numerics.make_extrap_log_func(func)"
     ],
     "language": "python",
     "metadata": {},
     "outputs": [],
     "prompt_number": 17
    },
    {
     "cell_type": "code",
     "collapsed": false,
     "input": [
      "c_model = func_ex(params, ns, pts_l)\n",
      "ll_c_model = dadi.Inference.ll_multinom(c_model, data)\n",
      "print 'Model log-likelihood:', ll_c_model\n",
      "theta = dadi.Inference.optimal_sfs_scaling(c_model, data)"
     ],
     "language": "python",
     "metadata": {},
     "outputs": [
      {
       "output_type": "stream",
       "stream": "stdout",
       "text": [
        "Model log-likelihood: -1391.25663334\n"
       ]
      }
     ],
     "prompt_number": 21
    },
    {
     "cell_type": "code",
     "collapsed": false,
     "input": [
      "p0 = dadi.Misc.perturb_params(params, fold=1, upper_bound=upper_bound)\n",
      "popt = dadi.Inference.optimize_log(p0, data, func_ex, pts_l,\n",
      "                                   lower_bound=lower_bound,\n",
      "                                   upper_bound=upper_bound,\n",
      "                                   verbose=len(params),\n",
      "                                   maxiter=3)\n",
      "print 'Optimized parameters', repr(popt)\n",
      "c_model = func_ex(popt, ns, pts_l)\n",
      "ll_opt = dadi.Inference.ll_multinom(c_model, data)\n",
      "print 'Optimized log-likelihood:', ll_opt"
     ],
     "language": "python",
     "metadata": {},
     "outputs": [
      {
       "output_type": "stream",
       "stream": "stdout",
       "text": [
        "328     , -3038.9     , array([ 0.00830679 ,  6.63938    ,  2.68783    ,  9.2472     ])\n"
       ]
      },
      {
       "output_type": "stream",
       "stream": "stdout",
       "text": [
        "332     , -3034.39    , array([ 0.00830679 ,  6.63938    ,  2.68783    ,  9.25645    ])\n",
        "348     , -1064.33    , array([ 0.00832313 ,  2.53569    ,  2.68783    ,  24.1513    ])\n"
       ]
      },
      {
       "output_type": "stream",
       "stream": "stdout",
       "text": [
        "352     , -1064.32    , array([ 0.00829825 ,  2.51091    ,  2.68783    ,  23.9457    ])\n"
       ]
      },
      {
       "output_type": "stream",
       "stream": "stdout",
       "text": [
        "356     , -1064.32    , array([ 0.00829825 ,  2.51091    ,  2.69052    ,  23.9457    ])\n",
        "360     , -1064.31    , array([ 0.00824056 ,  2.4142     ,  2.68783    ,  23.1406    ])\n"
       ]
      },
      {
       "output_type": "stream",
       "stream": "stdout",
       "text": [
        "364     , -1064.26    , array([ 0.00797382 ,  2.06321    ,  2.68783    ,  20.182     ])\n"
       ]
      },
      {
       "output_type": "stream",
       "stream": "stdout",
       "text": [
        "368     , -1064.26    , array([ 0.00797382 ,  2.06321    ,  2.69052    ,  20.182     ])\n",
        "372     , -1064.15    , array([ 0.0073024  ,  1.32585    ,  2.68783    ,  13.7275    ])\n"
       ]
      },
      {
       "output_type": "stream",
       "stream": "stdout",
       "text": [
        "Optimized parameters array([  7.29510103e-03,   1.32585489e+00,   2.68783188e+00,\n",
        "         1.37275267e+01])\n",
        "Optimized log-likelihood:"
       ]
      },
      {
       "output_type": "stream",
       "stream": "stdout",
       "text": [
        " -1064.1491248\n"
       ]
      }
     ],
     "prompt_number": 22
    },
    {
     "cell_type": "code",
     "collapsed": false,
     "input": [
      "pylab.figure(figsize=(9, 9), dpi=300)\n",
      "dadi.Plotting.plot_1d_comp_multinom(c_model, data)\n",
      "pylab.show()"
     ],
     "language": "python",
     "metadata": {},
     "outputs": [
      {
       "metadata": {},
       "output_type": "display_data",
       "png": "[encoded data removed]",
       "text": [
        "<matplotlib.figure.Figure at 0x107386150>"
       ]
      }
     ],
     "prompt_number": 23
    },
    {
     "cell_type": "markdown",
     "metadata": {},
     "source": [
      "### 1B. Morocco 1D"
     ]
    },
    {
     "cell_type": "code",
     "collapsed": false,
     "input": [
      "cadata = dadi.Spectrum.from_file('../data/matrix_dadi_canarianSubset.transp.genodadiSpectrum.txt')\n",
      "data = cadata.marginalize([0,2])\n",
      "dadi.Plotting.plot_1d_fs(data, fig_num=1)"
     ],
     "language": "python",
     "metadata": {},
     "outputs": [
      {
       "metadata": {},
       "output_type": "display_data",
       "png": "[encoded data removed]",
       "text": [
        "<matplotlib.figure.Figure at 0x1085b8fd0>"
       ]
      }
     ],
     "prompt_number": 24
    },
    {
     "cell_type": "code",
     "collapsed": false,
     "input": [
      "ns = data.sample_sizes\n",
      "pts_l = [40, 50, 60]\n",
      "params = array([1.5, 1.3])\n",
      "upper_bound = [50, 10]\n",
      "lower_bound = [1e-3, 1e-5]\n",
      "\n",
      "func = oneD_models.growth\n",
      "func_ex = dadi.Numerics.make_extrap_log_func(func)"
     ],
     "language": "python",
     "metadata": {},
     "outputs": [],
     "prompt_number": 33
    },
    {
     "cell_type": "code",
     "collapsed": false,
     "input": [
      "m_model = func_ex(params, ns, pts_l)\n",
      "ll_m_model = dadi.Inference.ll_multinom(m_model, data)\n",
      "print 'Model log-likelihood:', ll_m_model\n",
      "theta = dadi.Inference.optimal_sfs_scaling(m_model, data)"
     ],
     "language": "python",
     "metadata": {},
     "outputs": [
      {
       "output_type": "stream",
       "stream": "stdout",
       "text": [
        "Model log-likelihood: -17795.7774636\n"
       ]
      }
     ],
     "prompt_number": 34
    },
    {
     "cell_type": "code",
     "collapsed": false,
     "input": [
      "p0 = dadi.Misc.perturb_params(params, fold=1, upper_bound=upper_bound)\n",
      "popt = dadi.Inference.optimize_log(p0, data, func_ex, pts_l,\n",
      "                                   lower_bound=lower_bound,\n",
      "                                   upper_bound=upper_bound,\n",
      "                                   verbose=len(params),\n",
      "                                   maxiter=50)\n",
      "print 'Optimized parameters', repr(popt)\n",
      "m_model = func_ex(popt, ns, pts_l)\n",
      "ll_opt = dadi.Inference.ll_multinom(m_model, data)\n",
      "print 'Optimized log-likelihood:', ll_opt"
     ],
     "language": "python",
     "metadata": {},
     "outputs": [
      {
       "output_type": "stream",
       "stream": "stdout",
       "text": [
        "796     , -12586.1    , array([ 2.04958    ,  1.17388    ])\n"
       ]
      },
      {
       "output_type": "stream",
       "stream": "stdout",
       "text": [
        "798     , -12587.6    , array([ 2.04958    ,  1.17505    ])\n",
        "812     , -6484.88    , array([ 3.33476    ,  1.11937    ])\n"
       ]
      },
      {
       "output_type": "stream",
       "stream": "stdout",
       "text": [
        "814     , -6474.88    , array([ 3.3381     ,  1.11937    ])\n",
        "820     , -6484.63    , array([ 3.33488    ,  1.11958    ])\n"
       ]
      },
      {
       "output_type": "stream",
       "stream": "stdout",
       "text": [
        "822     , -6474.63    , array([ 3.33821    ,  1.11958    ])\n",
        "824     , -6484.38    , array([ 3.335      ,  1.11979    ])\n"
       ]
      },
      {
       "output_type": "stream",
       "stream": "stdout",
       "text": [
        "826     , -6474.38    , array([ 3.33833    ,  1.11979    ])\n",
        "832     , -6484.32    , array([ 3.33503    ,  1.11985    ])\n"
       ]
      },
      {
       "output_type": "stream",
       "stream": "stdout",
       "text": [
        "834     , -6474.32    , array([ 3.33836    ,  1.11985    ])\n",
        "836     , -6484.25    , array([ 3.33506    ,  1.1199     ])\n"
       ]
      },
      {
       "output_type": "stream",
       "stream": "stdout",
       "text": [
        "838     , -6474.26    , array([ 3.33839    ,  1.1199     ])\n",
        "844     , -6484.24    , array([ 3.33506    ,  1.11991    ])\n"
       ]
      },
      {
       "output_type": "stream",
       "stream": "stdout",
       "text": [
        "846     , -6474.24    , array([ 3.3384     ,  1.11991    ])\n",
        "848     , -6484.22    , array([ 3.33507    ,  1.11993    ])\n"
       ]
      },
      {
       "output_type": "stream",
       "stream": "stdout",
       "text": [
        "850     , -6474.23    , array([ 3.33841    ,  1.11993    ])\n",
        "852     , -7807.18    , array([ 4.14232    ,  3.54145    ])\n"
       ]
      },
      {
       "output_type": "stream",
       "stream": "stdout",
       "text": [
        "854     , -7796.8     , array([ 4.14646    ,  3.54145    ])\n",
        "856     , -6296.12    , array([ 3.51171    ,  1.4731     ])\n"
       ]
      },
      {
       "output_type": "stream",
       "stream": "stdout",
       "text": [
        "858     , -6286.11    , array([ 3.51522    ,  1.4731     ])\n",
        "860     , -5922.33    , array([ 3.64823    ,  1.47361    ])\n"
       ]
      },
      {
       "output_type": "stream",
       "stream": "stdout",
       "text": [
        "862     , -5912.68    , array([ 3.65188    ,  1.47361    ])\n",
        "864     , -4566.43    , array([ 4.24952    ,  1.47566    ])\n"
       ]
      },
      {
       "output_type": "stream",
       "stream": "stdout",
       "text": [
        "866     , -4558.29    , array([ 4.25377    ,  1.47566    ])\n",
        "868     , -1922.22    , array([ 6.61728    ,  1.60167    ])\n"
       ]
      },
      {
       "output_type": "stream",
       "stream": "stdout",
       "text": [
        "870     , -1918       , array([ 6.6239     ,  1.60167    ])\n",
        "872     , -842.977    , array([ 10.6278    ,  1.72948    ])\n"
       ]
      },
      {
       "output_type": "stream",
       "stream": "stdout",
       "text": [
        "874     , -842.405    , array([ 10.6385    ,  1.72948    ])\n",
        "876     , -806.24     , array([ 11.2913    ,  1.63605    ])\n"
       ]
      },
      {
       "output_type": "stream",
       "stream": "stdout",
       "text": [
        "878     , -806.149    , array([ 11.3026    ,  1.63605    ])\n",
        "880     , -800.83     , array([ 11.4108    ,  1.56688    ])\n"
       ]
      },
      {
       "output_type": "stream",
       "stream": "stdout",
       "text": [
        "882     , -800.848    , array([ 11.4223    ,  1.56688    ])\n",
        "884     , -800.547    , array([ 11.3826    ,  1.56107    ])\n"
       ]
      },
      {
       "output_type": "stream",
       "stream": "stdout",
       "text": [
        "886     , -800.554    , array([ 11.394     ,  1.56107    ])\n",
        "888     , -800.358    , array([ 11.2704    ,  1.53805    ])\n"
       ]
      },
      {
       "output_type": "stream",
       "stream": "stdout",
       "text": [
        "890     , -800.308    , array([ 11.2817    ,  1.53805    ])\n",
        "892     , -801.255    , array([ 11.1958    ,  1.49995    ])\n"
       ]
      },
      {
       "output_type": "stream",
       "stream": "stdout",
       "text": [
        "894     , -801.182    , array([ 11.207     ,  1.49995    ])\n",
        "896     , -800.338    , array([ 11.2617    ,  1.5336     ])\n"
       ]
      },
      {
       "output_type": "stream",
       "stream": "stdout",
       "text": [
        "898     , -800.289    , array([ 11.273     ,  1.5336     ])\n",
        "900     , -800.296    , array([ 11.2714    ,  1.53367    ])\n"
       ]
      },
      {
       "output_type": "stream",
       "stream": "stdout",
       "text": [
        "902     , -800.253    , array([ 11.2827    ,  1.53367    ])\n",
        "904     , -800.216    , array([ 11.295     ,  1.53411    ])\n"
       ]
      },
      {
       "output_type": "stream",
       "stream": "stdout",
       "text": [
        "906     , -800.189    , array([ 11.3063    ,  1.53411    ])\n",
        "908     , -800.152    , array([ 11.3355    ,  1.53488    ])\n"
       ]
      },
      {
       "output_type": "stream",
       "stream": "stdout",
       "text": [
        "910     , -800.153    , array([ 11.3469    ,  1.53488    ])\n",
        "912     , -800.149    , array([ 11.336     ,  1.53539    ])\n"
       ]
      },
      {
       "output_type": "stream",
       "stream": "stdout",
       "text": [
        "914     , -800.148    , array([ 11.3474    ,  1.53539    ])\n",
        "916     , -800.151    , array([ 11.3357    ,  1.5351     ])\n"
       ]
      },
      {
       "output_type": "stream",
       "stream": "stdout",
       "text": [
        "918     , -800.151    , array([ 11.3471    ,  1.5351     ])\n",
        "920     , -800.151    , array([ 11.3356    ,  1.53509    ])\n"
       ]
      },
      {
       "output_type": "stream",
       "stream": "stdout",
       "text": [
        "922     , -800.151    , array([ 11.3469    ,  1.53509    ])\n",
        "924     , -800.151    , array([ 11.3357    ,  1.5351     ])\n"
       ]
      },
      {
       "output_type": "stream",
       "stream": "stdout",
       "text": [
        "926     , -800.151    , array([ 11.3471    ,  1.5351     ])\n",
        "928     , -800.151    , array([ 11.3357    ,  1.5351     ])\n"
       ]
      },
      {
       "output_type": "stream",
       "stream": "stdout",
       "text": [
        "930     , -800.151    , array([ 11.3471    ,  1.5351     ])\n",
        "932     , -800.151    , array([ 11.3357    ,  1.5351     ])\n"
       ]
      },
      {
       "output_type": "stream",
       "stream": "stdout",
       "text": [
        "934     , -800.151    , array([ 11.3471    ,  1.5351     ])\n",
        "936     , -800.151    , array([ 11.3357    ,  1.5351     ])\n"
       ]
      },
      {
       "output_type": "stream",
       "stream": "stdout",
       "text": [
        "938     , -800.151    , array([ 11.3471    ,  1.5351     ])\n",
        "940     , -800.151    , array([ 11.3357    ,  1.5351     ])\n"
       ]
      },
      {
       "output_type": "stream",
       "stream": "stdout",
       "text": [
        "942     , -800.151    , array([ 11.3471    ,  1.5351     ])\n",
        "944     , -800.151    , array([ 11.3357    ,  1.5351     ])\n"
       ]
      },
      {
       "output_type": "stream",
       "stream": "stdout",
       "text": [
        "946     , -800.151    , array([ 11.3471    ,  1.5351     ])\n",
        "948     , -800.151    , array([ 11.3357    ,  1.5351     ])\n"
       ]
      },
      {
       "output_type": "stream",
       "stream": "stdout",
       "text": [
        "950     , -800.151    , array([ 11.3471    ,  1.5351     ])\n",
        "952     , -800.151    , array([ 11.3357    ,  1.5351     ])\n"
       ]
      },
      {
       "output_type": "stream",
       "stream": "stdout",
       "text": [
        "954     , -800.151    , array([ 11.3471    ,  1.5351     ])\n",
        "956     , -800.151    , array([ 11.3357    ,  1.5351     ])\n"
       ]
      },
      {
       "output_type": "stream",
       "stream": "stdout",
       "text": [
        "958     , -800.151    , array([ 11.3471    ,  1.5351     ])\n",
        "960     , -800.151    , array([ 11.3357    ,  1.5351     ])\n"
       ]
      },
      {
       "output_type": "stream",
       "stream": "stdout",
       "text": [
        "962     , -800.151    , array([ 11.3471    ,  1.5351     ])\n",
        "964     , -800.151    , array([ 11.3357    ,  1.5351     ])\n"
       ]
      },
      {
       "output_type": "stream",
       "stream": "stdout",
       "text": [
        "966     , -800.151    , array([ 11.3471    ,  1.5351     ])\n",
        "968     , -800.151    , array([ 11.3357    ,  1.5351     ])\n"
       ]
      },
      {
       "output_type": "stream",
       "stream": "stdout",
       "text": [
        "970     , -800.151    , array([ 11.3471    ,  1.5351     ])\n",
        "972     , -800.151    , array([ 11.3357    ,  1.5351     ])\n"
       ]
      },
      {
       "output_type": "stream",
       "stream": "stdout",
       "text": [
        "974     , -800.151    , array([ 11.3471    ,  1.5351     ])\n",
        "976     , -800.151    , array([ 11.3357    ,  1.5351     ])\n"
       ]
      },
      {
       "output_type": "stream",
       "stream": "stdout",
       "text": [
        "978     , -800.151    , array([ 11.3471    ,  1.5351     ])\n",
        "980     , -800.151    , array([ 11.3357    ,  1.5351     ])\n"
       ]
      },
      {
       "output_type": "stream",
       "stream": "stdout",
       "text": [
        "982     , -800.151    , array([ 11.3471    ,  1.5351     ])\n",
        "984     , -800.151    , array([ 11.3357    ,  1.5351     ])\n"
       ]
      },
      {
       "output_type": "stream",
       "stream": "stdout",
       "text": [
        "986     , -800.151    , array([ 11.3471    ,  1.5351     ])\n",
        "988     , -800.151    , array([ 11.3357    ,  1.5351     ])\n"
       ]
      },
      {
       "output_type": "stream",
       "stream": "stdout",
       "text": [
        "990     , -800.151    , array([ 11.3471    ,  1.5351     ])\n",
        "992     , -800.151    , array([ 11.3357    ,  1.5351     ])\n"
       ]
      },
      {
       "output_type": "stream",
       "stream": "stdout",
       "text": [
        "994     , -800.151    , array([ 11.3471    ,  1.5351     ])\n",
        "996     , -800.151    , array([ 11.3357    ,  1.5351     ])\n"
       ]
      },
      {
       "output_type": "stream",
       "stream": "stdout",
       "text": [
        "998     , -800.151    , array([ 11.3471    ,  1.5351     ])\n",
        "1000    , -800.151    , array([ 11.3357    ,  1.5351     ])\n"
       ]
      },
      {
       "output_type": "stream",
       "stream": "stdout",
       "text": [
        "1002    , -800.151    , array([ 11.3471    ,  1.5351     ])\n",
        "1004    , -800.151    , array([ 11.3357    ,  1.5351     ])\n"
       ]
      },
      {
       "output_type": "stream",
       "stream": "stdout",
       "text": [
        "1006    , -800.151    , array([ 11.3471    ,  1.5351     ])\n",
        "1008    , -800.151    , array([ 11.3357    ,  1.5351     ])\n"
       ]
      },
      {
       "output_type": "stream",
       "stream": "stdout",
       "text": [
        "1010    , -800.151    , array([ 11.3471    ,  1.5351     ])\n",
        "1012    , -800.151    , array([ 11.3357    ,  1.5351     ])\n"
       ]
      },
      {
       "output_type": "stream",
       "stream": "stdout",
       "text": [
        "1014    , -800.151    , array([ 11.3471    ,  1.5351     ])\n",
        "1016    , -800.151    , array([ 11.3357    ,  1.5351     ])\n"
       ]
      },
      {
       "output_type": "stream",
       "stream": "stdout",
       "text": [
        "1018    , -800.151    , array([ 11.3471    ,  1.5351     ])\n",
        "1020    , -800.151    , array([ 11.3357    ,  1.5351     ])\n"
       ]
      },
      {
       "output_type": "stream",
       "stream": "stdout",
       "text": [
        "1022    , -800.151    , array([ 11.3471    ,  1.5351     ])\n",
        "1024    , -800.151    , array([ 11.3357    ,  1.5351     ])\n"
       ]
      },
      {
       "output_type": "stream",
       "stream": "stdout",
       "text": [
        "1026    , -800.151    , array([ 11.3471    ,  1.5351     ])\n",
        "1028    , -800.151    , array([ 11.3357    ,  1.5351     ])\n"
       ]
      },
      {
       "output_type": "stream",
       "stream": "stdout",
       "text": [
        "1030    , -800.151    , array([ 11.3471    ,  1.5351     ])\n",
        "1032    , -800.151    , array([ 11.3357    ,  1.5351     ])\n"
       ]
      },
      {
       "output_type": "stream",
       "stream": "stdout",
       "text": [
        "1034    , -800.151    , array([ 11.3471    ,  1.5351     ])\n",
        "1036    , -800.151    , array([ 11.3357    ,  1.5351     ])\n"
       ]
      },
      {
       "output_type": "stream",
       "stream": "stdout",
       "text": [
        "1038    , -800.151    , array([ 11.3471    ,  1.5351     ])\n",
        "1040    , -800.151    , array([ 11.3356    ,  1.53509    ])\n"
       ]
      },
      {
       "output_type": "stream",
       "stream": "stdout",
       "text": [
        "1042    , -800.151    , array([ 11.3357    ,  1.5351     ])\n",
        "1044    , -800.151    , array([ 11.3357    ,  1.5351     ])\n"
       ]
      },
      {
       "output_type": "stream",
       "stream": "stdout",
       "text": [
        "1046    , -800.151    , array([ 11.3357    ,  1.5351     ])\n",
        "1048    , -800.151    , array([ 11.3357    ,  1.5351     ])\n"
       ]
      },
      {
       "output_type": "stream",
       "stream": "stdout",
       "text": [
        "1050    , -800.151    , array([ 11.3357    ,  1.5351     ])\n",
        "Optimized parameters array([ 11.33573893,   1.53510498])\n",
        "Optimized log-likelihood:"
       ]
      },
      {
       "output_type": "stream",
       "stream": "stdout",
       "text": [
        " -800.150570396\n"
       ]
      }
     ],
     "prompt_number": 39
    },
    {
     "cell_type": "code",
     "collapsed": false,
     "input": [
      "pylab.figure(figsize=(9, 9), dpi=300)\n",
      "dadi.Plotting.plot_1d_comp_multinom(m_model, data)\n",
      "pylab.show()"
     ],
     "language": "python",
     "metadata": {},
     "outputs": [
      {
       "metadata": {},
       "output_type": "display_data",
       "png": "[encoded data removed]",
       "text": [
        "<matplotlib.figure.Figure at 0x1086236d0>"
       ]
      }
     ],
     "prompt_number": 40
    },
    {
     "cell_type": "markdown",
     "metadata": {},
     "source": [
      "### 1C. Iberia 1D\n"
     ]
    },
    {
     "cell_type": "code",
     "collapsed": false,
     "input": [
      "cadata = dadi.Spectrum.from_file('../data/matrix_dadi_canarianSubset.transp.genodadiSpectrum.txt')\n",
      "data = cadata.marginalize([0,1])\n",
      "dadi.Plotting.plot_1d_fs(data, fig_num=1)"
     ],
     "language": "python",
     "metadata": {},
     "outputs": [
      {
       "metadata": {},
       "output_type": "display_data",
       "png": "[encoded data removed]",
       "text": [
        "<matplotlib.figure.Figure at 0x1086948d0>"
       ]
      }
     ],
     "prompt_number": 41
    },
    {
     "cell_type": "code",
     "collapsed": false,
     "input": [
      "ns = data.sample_sizes\n",
      "pts_l = [40, 50, 60]\n",
      "params = array([1.5, 1.3])\n",
      "upper_bound = [50, 10]\n",
      "lower_bound = [1e-3, 1e-5]\n",
      "\n",
      "func = oneD_models.growth\n",
      "func_ex = dadi.Numerics.make_extrap_log_func(func)"
     ],
     "language": "python",
     "metadata": {},
     "outputs": [],
     "prompt_number": 42
    },
    {
     "cell_type": "code",
     "collapsed": false,
     "input": [
      "i_model = func_ex(params, ns, pts_l)\n",
      "ll_m_model = dadi.Inference.ll_multinom(i_model, data)\n",
      "print 'Model log-likelihood:', ll_m_model\n",
      "theta = dadi.Inference.optimal_sfs_scaling(i_model, data)"
     ],
     "language": "python",
     "metadata": {},
     "outputs": [
      {
       "output_type": "stream",
       "stream": "stdout",
       "text": [
        "Model log-likelihood: -3283.29312475\n"
       ]
      }
     ],
     "prompt_number": 43
    },
    {
     "cell_type": "code",
     "collapsed": false,
     "input": [
      "p0 = dadi.Misc.perturb_params(params, fold=1, upper_bound=upper_bound)\n",
      "popt = dadi.Inference.optimize_log(p0, data, func_ex, pts_l,\n",
      "                                   lower_bound=lower_bound,\n",
      "                                   upper_bound=upper_bound,\n",
      "                                   verbose=len(params),\n",
      "                                   maxiter=50)\n",
      "print 'Optimized parameters', repr(popt)\n",
      "i_model = func_ex(popt, ns, pts_l)\n",
      "ll_opt = dadi.Inference.ll_multinom(i_model, data)\n",
      "print 'Optimized log-likelihood:', ll_opt"
     ],
     "language": "python",
     "metadata": {},
     "outputs": [
      {
       "output_type": "stream",
       "stream": "stdout",
       "text": [
        "1052    , -3234.42    , array([ 1.56442    ,  1.76843    ])\n"
       ]
      },
      {
       "output_type": "stream",
       "stream": "stdout",
       "text": [
        "1054    , -3235.12    , array([ 1.56442    ,  1.7702     ])\n",
        "1064    , -2089.76    , array([ 2.03232    ,  1.70415    ])\n"
       ]
      },
      {
       "output_type": "stream",
       "stream": "stdout",
       "text": [
        "1066    , -2086.16    , array([ 2.03435    ,  1.70415    ])\n",
        "1068    , -5694.06    , array([ 1.31207    ,  0.00267711 ])\n"
       ]
      },
      {
       "output_type": "stream",
       "stream": "stdout",
       "text": [
        "1070    , -5693.86    , array([ 1.31338    ,  0.00267711 ])\n",
        "1072    , -2068.47    , array([ 1.95935    ,  0.99361    ])\n"
       ]
      },
      {
       "output_type": "stream",
       "stream": "stdout",
       "text": [
        "1074    , -2064.93    , array([ 1.96131    ,  0.99361    ])\n",
        "1076    , -2025.85    , array([ 1.98324    ,  0.998561   ])\n"
       ]
      },
      {
       "output_type": "stream",
       "stream": "stdout",
       "text": [
        "1078    , -2022.38    , array([ 1.98523    ,  0.998561   ])\n",
        "1080    , -1863.75    , array([ 2.08176    ,  1.01861    ])\n"
       ]
      },
      {
       "output_type": "stream",
       "stream": "stdout",
       "text": [
        "1082    , -1860.56    , array([ 2.08384    ,  1.01861    ])\n",
        "1084    , -1348.29    , array([ 2.52727    ,  1.10293    ])\n"
       ]
      },
      {
       "output_type": "stream",
       "stream": "stdout",
       "text": [
        "1086    , -1346.18    , array([ 2.5298     ,  1.10293    ])\n",
        "1088    , -937.97     , array([ 3.67534    ,  1.28819    ])\n"
       ]
      },
      {
       "output_type": "stream",
       "stream": "stdout",
       "text": [
        "1090    , -937.871    , array([ 3.67902    ,  1.28819    ])\n",
        "1092    , -936.982    , array([ 3.74321    ,  1.29511    ])\n"
       ]
      },
      {
       "output_type": "stream",
       "stream": "stdout",
       "text": [
        "1094    , -936.977    , array([ 3.74696    ,  1.29511    ])\n",
        "1096    , -936.968    , array([ 3.74665    ,  1.2918     ])\n"
       ]
      },
      {
       "output_type": "stream",
       "stream": "stdout",
       "text": [
        "1098    , -936.968    , array([ 3.7504     ,  1.2918     ])\n",
        "1100    , -936.958    , array([ 3.75054    ,  1.28026    ])\n"
       ]
      },
      {
       "output_type": "stream",
       "stream": "stdout",
       "text": [
        "1102    , -936.962    , array([ 3.75429    ,  1.28026    ])\n",
        "1104    , -936.957    , array([ 3.74846    ,  1.28048    ])\n"
       ]
      },
      {
       "output_type": "stream",
       "stream": "stdout",
       "text": [
        "1106    , -936.959    , array([ 3.75221    ,  1.28048    ])\n",
        "1108    , -936.958    , array([ 3.74693    ,  1.28067    ])\n"
       ]
      },
      {
       "output_type": "stream",
       "stream": "stdout",
       "text": [
        "1110    , -936.958    , array([ 3.75068    ,  1.28067    ])\n",
        "1112    , -936.957    , array([ 3.74826    ,  1.28051    ])\n"
       ]
      },
      {
       "output_type": "stream",
       "stream": "stdout",
       "text": [
        "1114    , -936.959    , array([ 3.75201    ,  1.28051    ])\n",
        "1116    , -936.957    , array([ 3.74843    ,  1.28048    ])\n"
       ]
      },
      {
       "output_type": "stream",
       "stream": "stdout",
       "text": [
        "1118    , -936.959    , array([ 3.75218    ,  1.28048    ])\n",
        "1120    , -936.957    , array([ 3.74846    ,  1.28048    ])\n"
       ]
      },
      {
       "output_type": "stream",
       "stream": "stdout",
       "text": [
        "1122    , -936.959    , array([ 3.75221    ,  1.28048    ])\n",
        "1124    , -936.957    , array([ 3.74846    ,  1.28048    ])\n"
       ]
      },
      {
       "output_type": "stream",
       "stream": "stdout",
       "text": [
        "1126    , -936.959    , array([ 3.75221    ,  1.28048    ])\n",
        "1128    , -936.957    , array([ 3.74846    ,  1.28048    ])\n"
       ]
      },
      {
       "output_type": "stream",
       "stream": "stdout",
       "text": [
        "1130    , -936.959    , array([ 3.75221    ,  1.28048    ])\n",
        "1132    , -936.957    , array([ 3.74846    ,  1.28048    ])\n"
       ]
      },
      {
       "output_type": "stream",
       "stream": "stdout",
       "text": [
        "1134    , -936.959    , array([ 3.75221    ,  1.28048    ])\n",
        "1136    , -936.957    , array([ 3.74846    ,  1.28048    ])\n"
       ]
      },
      {
       "output_type": "stream",
       "stream": "stdout",
       "text": [
        "1138    , -936.959    , array([ 3.75221    ,  1.28048    ])\n",
        "1140    , -936.957    , array([ 3.74846    ,  1.28048    ])\n"
       ]
      },
      {
       "output_type": "stream",
       "stream": "stdout",
       "text": [
        "1142    , -936.959    , array([ 3.75221    ,  1.28048    ])\n",
        "1144    , -936.957    , array([ 3.74846    ,  1.28048    ])\n"
       ]
      },
      {
       "output_type": "stream",
       "stream": "stdout",
       "text": [
        "1146    , -936.959    , array([ 3.75221    ,  1.28048    ])\n",
        "1148    , -936.957    , array([ 3.74846    ,  1.28048    ])\n"
       ]
      },
      {
       "output_type": "stream",
       "stream": "stdout",
       "text": [
        "1150    , -936.959    , array([ 3.75221    ,  1.28048    ])\n",
        "1152    , -936.958    , array([ 3.74693    ,  1.28067    ])\n"
       ]
      },
      {
       "output_type": "stream",
       "stream": "stdout",
       "text": [
        "1154    , -936.957    , array([ 3.74833    ,  1.2805     ])\n",
        "1156    , -936.957    , array([ 3.74845    ,  1.28048    ])\n"
       ]
      },
      {
       "output_type": "stream",
       "stream": "stdout",
       "text": [
        "1158    , -936.957    , array([ 3.74846    ,  1.28048    ])\n",
        "1160    , -936.957    , array([ 3.74846    ,  1.28048    ])\n"
       ]
      },
      {
       "output_type": "stream",
       "stream": "stdout",
       "text": [
        "1162    , -936.957    , array([ 3.74846    ,  1.28048    ])\n",
        "Optimized parameters array([ 3.74846081,  1.28048057])\n",
        "Optimized log-likelihood:"
       ]
      },
      {
       "output_type": "stream",
       "stream": "stdout",
       "text": [
        " -936.957081833\n"
       ]
      }
     ],
     "prompt_number": 44
    },
    {
     "cell_type": "code",
     "collapsed": false,
     "input": [
      "pylab.figure(figsize=(9, 9), dpi=300)\n",
      "dadi.Plotting.plot_1d_comp_multinom(i_model, data)\n",
      "pylab.show()"
     ],
     "language": "python",
     "metadata": {},
     "outputs": [
      {
       "metadata": {},
       "output_type": "display_data",
       "png": "[encoded data removed]",
       "text": [
        "<matplotlib.figure.Figure at 0x1073a4750>"
       ]
      }
     ],
     "prompt_number": 45
    }
   ],
   "metadata": {}
  }
 ]
}