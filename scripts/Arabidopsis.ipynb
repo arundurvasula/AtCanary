{
 "metadata": {
  "name": "",
  "signature": "sha256:2d1076c2f82e52497ff0ac373a694350a53c481995e6a888a7f068be0d561e08"
 },
 "nbformat": 3,
 "nbformat_minor": 0,
 "worksheets": [
  {
   "cells": [
    {
     "cell_type": "code",
     "collapsed": false,
     "input": [
      "import dadi\n",
      "import numpy\n",
      "import demographic_models\n",
      "\n",
      "from numpy import array"
     ],
     "language": "python",
     "metadata": {},
     "outputs": [],
     "prompt_number": 1
    },
    {
     "cell_type": "code",
     "collapsed": false,
     "input": [
      "data = dadi.Spectrum.from_file('data/FS.fs')\n",
      "ns = data.sample_sizes\n",
      "pts_l = [40, 50, 60]\n",
      "params = array([]) #change these?\n",
      "upper_bound = [100, 100, 100, 100, 3, 3, 3] #change these?\n",
      "lower_bound = [1e-2, 1e-2, 1e-2, 0, 0, 0, 0] #change these?\n",
      "\n",
      "func = demographic_models.simple_canary\n",
      "func_ex = dadi.Numerics.make_extrap_log_func(func)"
     ],
     "language": "python",
     "metadata": {},
     "outputs": []
    },
    {
     "cell_type": "code",
     "collapsed": false,
     "input": [
      "# Calculate the model AFS.\n",
      "model = func_ex(params, ns, pts_l)\n",
      "# Likelihood of the data given the model AFS.\n",
      "ll_model = dadi.Inference.ll_multinom(model, data)\n",
      "print 'Model log-likelihood:', ll_model\n",
      "# The optimal value of theta given the model.\n",
      "theta = dadi.Inference.optimal_sfs_scaling(model, data)"
     ],
     "language": "python",
     "metadata": {},
     "outputs": []
    },
    {
     "cell_type": "code",
     "collapsed": false,
     "input": [
      "p0 = dadi.Misc.perturb_params(params, fold=1, upper_bound=upper_bound)\n",
      "popt = dadi.Inference.optimize_log(p0, data, func_ex, pts_l,\n",
      "                                   lower_bound=lower_bound,\n",
      "                                   upper_bound=upper_bound,\n",
      "                                   verbose=len(params),\n",
      "                                   maxiter=3)\n",
      "print 'Optimized parameters', repr(popt)\n",
      "model = func_ex(popt, ns, pts_l)\n",
      "ll_opt = dadi.Inference.ll_multinom(model, data)\n",
      "print 'Optimized log-likelihood:', ll_opt"
     ],
     "language": "python",
     "metadata": {},
     "outputs": []
    },
    {
     "cell_type": "code",
     "collapsed": false,
     "input": [
      "import pylab\n",
      "pylab.figure()\n",
      "dadi.Plotting.plot_2d_comp_multinom(model, data, vmin=1, resid_range=3,\n",
      "                                    pop_ids =('YRI','CEU'))\n",
      "pylab.show()"
     ],
     "language": "python",
     "metadata": {},
     "outputs": []
    }
   ],
   "metadata": {}
  }
 ]
}