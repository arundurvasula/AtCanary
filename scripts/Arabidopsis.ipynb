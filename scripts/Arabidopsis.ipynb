{
 "metadata": {
  "name": "",
  "signature": "sha256:932d0fc7b5efc9dc668ad952f87474b44767442c6f92eedbd36dcbca3e0c4fd6"
 },
 "nbformat": 3,
 "nbformat_minor": 0,
 "worksheets": [
  {
   "cells": [
    {
     "cell_type": "code",
     "collapsed": false,
     "input": [
      "import dadi\n",
      "import numpy\n",
      "import pylab\n",
      "import demographic_models\n",
      "\n",
      "from numpy import array"
     ],
     "language": "python",
     "metadata": {},
     "outputs": [],
     "prompt_number": 2
    },
    {
     "cell_type": "markdown",
     "metadata": {},
     "source": [
      "Run some simulations without data"
     ]
    },
    {
     "cell_type": "code",
     "collapsed": false,
     "input": [
      "params=array([1,1.5,1,1.5,0.8,2,3,4])\n",
      "ns=array([20, 20, 20])\n",
      "pts_l = 20\n",
      "fs = demographic_models.simple_canary(params, ns, pts_l)\n",
      "print fs[0][0]"
     ],
     "language": "python",
     "metadata": {},
     "outputs": [
      {
       "output_type": "stream",
       "stream": "stdout",
       "text": [
        "[-- 0.9329520152579582 0.4382885263178647 0.2891570119461134\n",
        " 0.21485861240495654 0.17039406862280818 0.14085100997678046\n",
        " 0.11980604422603285 0.10405218366443945 0.09184638588069917\n",
        " 0.08214456775369393 0.07425371199206536 0.06770312407918062\n",
        " 0.0621834493306991 0.05748453254725058 0.053445809352150646\n",
        " 0.04993905675424407 0.0468677744505578 0.04417084640743834\n",
        " 0.046622520415892536 1.687666659930128]\n"
       ]
      }
     ],
     "prompt_number": 9
    },
    {
     "cell_type": "markdown",
     "metadata": {},
     "source": [
      "data = dadi.Spectrum.from_file('data/FS.fs')\n",
      "dadi.Plotting.plot_single_2d_sfs(data,vmin=1,pop_ids=(\"Ib\",\"Mo\"))"
     ]
    },
    {
     "cell_type": "markdown",
     "metadata": {},
     "source": [
      "Run the simple canary island model. This model is just a 3 population split with no migration.\n",
      "\n",
      "    |\n",
      "     ----\n",
      "    |    |\n",
      "    |     ----\n",
      "    |    |    |\n",
      "    S    M    C\n",
      "\n",
      "Model parameters:\n",
      "- nuIb0: starting Iberian population size\n",
      "- nuIb: ending Iberian population size\n",
      "- nuMo0: starting Moroccan population size\n",
      "- nuMo: ending Morrocan population size\n",
      "- nuCa0: starting Canary island population size\n",
      "- nuCa: ending Canary island population size\n",
      "- TIbMo: split time for Iberian and Moroccan populations\n",
      "- TMoCa: split time for Moroccan and Canary island populations\n",
      "- TF: simulation ending time"
     ]
    },
    {
     "cell_type": "code",
     "collapsed": false,
     "input": [
      "data = dadi.Spectrum.from_file('data/FS.fs')\n",
      "ns = data.sample_sizes\n",
      "pts_l = [40, 50, 60]\n",
      "params = array([]) #change these?\n",
      "upper_bound = [100, 100, 100, 100, 3, 3, 3] #change these?\n",
      "lower_bound = [1e-2, 1e-2, 1e-2, 0, 0, 0, 0] #change these?\n",
      "\n",
      "func = demographic_models.simple_canary\n",
      "func_ex = dadi.Numerics.make_extrap_log_func(func)"
     ],
     "language": "python",
     "metadata": {},
     "outputs": []
    },
    {
     "cell_type": "code",
     "collapsed": false,
     "input": [
      "# Calculate the model AFS.\n",
      "model = func_ex(params, ns, pts_l)\n",
      "# Likelihood of the data given the model AFS.\n",
      "ll_model = dadi.Inference.ll_multinom(model, data)\n",
      "print 'Model log-likelihood:', ll_model\n",
      "# The optimal value of theta given the model.\n",
      "theta = dadi.Inference.optimal_sfs_scaling(model, data)"
     ],
     "language": "python",
     "metadata": {},
     "outputs": []
    },
    {
     "cell_type": "code",
     "collapsed": false,
     "input": [
      "p0 = dadi.Misc.perturb_params(params, fold=1, upper_bound=upper_bound)\n",
      "popt = dadi.Inference.optimize_log(p0, data, func_ex, pts_l,\n",
      "                                   lower_bound=lower_bound,\n",
      "                                   upper_bound=upper_bound,\n",
      "                                   verbose=len(params),\n",
      "                                   maxiter=3)\n",
      "print 'Optimized parameters', repr(popt)\n",
      "model = func_ex(popt, ns, pts_l)\n",
      "ll_opt = dadi.Inference.ll_multinom(model, data)\n",
      "print 'Optimized log-likelihood:', ll_opt"
     ],
     "language": "python",
     "metadata": {},
     "outputs": []
    },
    {
     "cell_type": "code",
     "collapsed": false,
     "input": [
      "pylab.figure()\n",
      "dadi.Plotting.plot_3d_comp_multinom(model, data, vmin=1, resid_range=3,\n",
      "                                    pop_ids =('IB','MO', 'CA'))\n",
      "pylab.show()"
     ],
     "language": "python",
     "metadata": {},
     "outputs": []
    },
    {
     "cell_type": "markdown",
     "metadata": {},
     "source": [
      "Run another Canary Island model, this time with migration.\n",
      "\n",
      "    |\n",
      "     ----\n",
      "    |    |\n",
      "    |     ----\n",
      "    |====|===>|\n",
      "    S    M    C\n",
      "    \n",
      "Model parameters:\n",
      "- nuIb0: starting Iberian population size\n",
      "- nuIb: ending Iberian population size\n",
      "- nuMo0: starting Moroccan population size\n",
      "- nuMo: ending Morrocan population size\n",
      "- nuCa0: starting Canary island population size\n",
      "- nuCa: ending Canary island population size\n",
      "- TIbMo: split time for Iberian and Moroccan populations\n",
      "- TMoCa: split time for Moroccan and Canary island populations\n",
      "- mIbCa: migration rate from Ib to Ca\n",
      "- TF: simulation ending time"
     ]
    },
    {
     "cell_type": "code",
     "collapsed": false,
     "input": [
      "ns = data.sample_sizes\n",
      "pts_l = [40, 50, 60]\n",
      "params = array([]) #change these?\n",
      "upper_bound = [100, 100, 100, 100, 3, 3, 3] #change these?\n",
      "lower_bound = [1e-2, 1e-2, 1e-2, 0, 0, 0, 0] #change these?\n",
      "\n",
      "func = demographic_models.simple_canary_migration\n",
      "func_ex = dadi.Numerics.make_extrap_log_func(func)"
     ],
     "language": "python",
     "metadata": {},
     "outputs": []
    },
    {
     "cell_type": "code",
     "collapsed": false,
     "input": [
      "# Calculate the model AFS.\n",
      "model = func_ex(params, ns, pts_l)\n",
      "# Likelihood of the data given the model AFS.\n",
      "ll_model = dadi.Inference.ll_multinom(model, data)\n",
      "print 'Model log-likelihood:', ll_model\n",
      "# The optimal value of theta given the model.\n",
      "theta = dadi.Inference.optimal_sfs_scaling(model, data)"
     ],
     "language": "python",
     "metadata": {},
     "outputs": []
    },
    {
     "cell_type": "code",
     "collapsed": false,
     "input": [
      "p0 = dadi.Misc.perturb_params(params, fold=1, upper_bound=upper_bound)\n",
      "popt = dadi.Inference.optimize_log(p0, data, func_ex, pts_l,\n",
      "                                   lower_bound=lower_bound,\n",
      "                                   upper_bound=upper_bound,\n",
      "                                   verbose=len(params),\n",
      "                                   maxiter=3)\n",
      "print 'Optimized parameters', repr(popt)\n",
      "model = func_ex(popt, ns, pts_l)\n",
      "ll_opt = dadi.Inference.ll_multinom(model, data)\n",
      "print 'Optimized log-likelihood:', ll_opt"
     ],
     "language": "python",
     "metadata": {},
     "outputs": []
    },
    {
     "cell_type": "code",
     "collapsed": false,
     "input": [
      "pylab.figure()\n",
      "dadi.Plotting.plot_3d_comp_multinom(model, data, vmin=1, resid_range=3,\n",
      "                                    pop_ids =('IB','MO', 'CA'))\n",
      "pylab.show()"
     ],
     "language": "python",
     "metadata": {},
     "outputs": []
    }
   ],
   "metadata": {}
  }
 ]
}